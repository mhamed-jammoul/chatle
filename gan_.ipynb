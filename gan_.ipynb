{
  "nbformat": 4,
  "nbformat_minor": 0,
  "metadata": {
    "colab": {
      "provenance": [],
      "gpuType": "T4",
      "include_colab_link": true
    },
    "kernelspec": {
      "name": "python3",
      "display_name": "Python 3"
    },
    "language_info": {
      "name": "python"
    },
    "accelerator": "GPU",
    "gpuClass": "standard"
  },
  "cells": [
    {
      "cell_type": "markdown",
      "metadata": {
        "id": "view-in-github",
        "colab_type": "text"
      },
      "source": [
        "<a href=\"https://colab.research.google.com/github/mhamed-jammoul/chatle/blob/main/gan_.ipynb\" target=\"_parent\"><img src=\"https://colab.research.google.com/assets/colab-badge.svg\" alt=\"Open In Colab\"/></a>"
      ]
    },
    {
      "cell_type": "code",
      "execution_count": null,
      "metadata": {
        "id": "MP6JoxLRGYBv"
      },
      "outputs": [],
      "source": [
        "import tensorflow as tf\n",
        "from tensorflow.keras import layers, regularizers\n",
        "# from torch_two_sample.statistics_diff import MMDStatistic\n",
        "import torch\n",
        "\n",
        "import matplotlib.pyplot as plt\n",
        "import numpy as np\n",
        "import random\n",
        "import pandas as pd\n",
        "from IPython import display\n",
        "from tqdm import tqdm\n",
        "from shutil import copyfile\n"
      ]
    },
    {
      "cell_type": "markdown",
      "source": [
        "## **Data preprocessing**"
      ],
      "metadata": {
        "id": "omz-h_v90HPr"
      }
    },
    {
      "cell_type": "code",
      "source": [
        "df = pd.read_csv('http://storage.googleapis.com/download.tensorflow.org/data/ecg.csv', header=None)\n",
        "df.head()"
      ],
      "metadata": {
        "colab": {
          "base_uri": "https://localhost:8080/"
        },
        "id": "daMVmhw1r4C7",
        "outputId": "fa7ecd09-22bf-4cc7-e718-7c2fd8b5ca13"
      },
      "execution_count": null,
      "outputs": [
        {
          "output_type": "execute_result",
          "data": {
            "text/plain": [
              "        0         1         2         3         4         5         6    \\\n",
              "0 -0.112522 -2.827204 -3.773897 -4.349751 -4.376041 -3.474986 -2.181408   \n",
              "1 -1.100878 -3.996840 -4.285843 -4.506579 -4.022377 -3.234368 -1.566126   \n",
              "2 -0.567088 -2.593450 -3.874230 -4.584095 -4.187449 -3.151462 -1.742940   \n",
              "3  0.490473 -1.914407 -3.616364 -4.318823 -4.268016 -3.881110 -2.993280   \n",
              "4  0.800232 -0.874252 -2.384761 -3.973292 -4.338224 -3.802422 -2.534510   \n",
              "\n",
              "        7         8         9    ...       131       132       133       134  \\\n",
              "0 -1.818286 -1.250522 -0.477492  ...  0.792168  0.933541  0.796958  0.578621   \n",
              "1 -0.992258 -0.754680  0.042321  ...  0.538356  0.656881  0.787490  0.724046   \n",
              "2 -1.490659 -1.183580 -0.394229  ...  0.886073  0.531452  0.311377 -0.021919   \n",
              "3 -1.671131 -1.333884 -0.965629  ...  0.350816  0.499111  0.600345  0.842069   \n",
              "4 -1.783423 -1.594450 -0.753199  ...  1.148884  0.958434  1.059025  1.371682   \n",
              "\n",
              "        135       136       137       138       139  140  \n",
              "0  0.257740  0.228077  0.123431  0.925286  0.193137  1.0  \n",
              "1  0.555784  0.476333  0.773820  1.119621 -1.436250  1.0  \n",
              "2 -0.713683 -0.532197  0.321097  0.904227 -0.421797  1.0  \n",
              "3  0.952074  0.990133  1.086798  1.403011 -0.383564  1.0  \n",
              "4  1.277392  0.960304  0.971020  1.614392  1.421456  1.0  \n",
              "\n",
              "[5 rows x 141 columns]"
            ],
            "text/html": [
              "\n",
              "  <div id=\"df-3c9cc499-07af-4d1d-a848-6a5db889ccbf\">\n",
              "    <div class=\"colab-df-container\">\n",
              "      <div>\n",
              "<style scoped>\n",
              "    .dataframe tbody tr th:only-of-type {\n",
              "        vertical-align: middle;\n",
              "    }\n",
              "\n",
              "    .dataframe tbody tr th {\n",
              "        vertical-align: top;\n",
              "    }\n",
              "\n",
              "    .dataframe thead th {\n",
              "        text-align: right;\n",
              "    }\n",
              "</style>\n",
              "<table border=\"1\" class=\"dataframe\">\n",
              "  <thead>\n",
              "    <tr style=\"text-align: right;\">\n",
              "      <th></th>\n",
              "      <th>0</th>\n",
              "      <th>1</th>\n",
              "      <th>2</th>\n",
              "      <th>3</th>\n",
              "      <th>4</th>\n",
              "      <th>5</th>\n",
              "      <th>6</th>\n",
              "      <th>7</th>\n",
              "      <th>8</th>\n",
              "      <th>9</th>\n",
              "      <th>...</th>\n",
              "      <th>131</th>\n",
              "      <th>132</th>\n",
              "      <th>133</th>\n",
              "      <th>134</th>\n",
              "      <th>135</th>\n",
              "      <th>136</th>\n",
              "      <th>137</th>\n",
              "      <th>138</th>\n",
              "      <th>139</th>\n",
              "      <th>140</th>\n",
              "    </tr>\n",
              "  </thead>\n",
              "  <tbody>\n",
              "    <tr>\n",
              "      <th>0</th>\n",
              "      <td>-0.112522</td>\n",
              "      <td>-2.827204</td>\n",
              "      <td>-3.773897</td>\n",
              "      <td>-4.349751</td>\n",
              "      <td>-4.376041</td>\n",
              "      <td>-3.474986</td>\n",
              "      <td>-2.181408</td>\n",
              "      <td>-1.818286</td>\n",
              "      <td>-1.250522</td>\n",
              "      <td>-0.477492</td>\n",
              "      <td>...</td>\n",
              "      <td>0.792168</td>\n",
              "      <td>0.933541</td>\n",
              "      <td>0.796958</td>\n",
              "      <td>0.578621</td>\n",
              "      <td>0.257740</td>\n",
              "      <td>0.228077</td>\n",
              "      <td>0.123431</td>\n",
              "      <td>0.925286</td>\n",
              "      <td>0.193137</td>\n",
              "      <td>1.0</td>\n",
              "    </tr>\n",
              "    <tr>\n",
              "      <th>1</th>\n",
              "      <td>-1.100878</td>\n",
              "      <td>-3.996840</td>\n",
              "      <td>-4.285843</td>\n",
              "      <td>-4.506579</td>\n",
              "      <td>-4.022377</td>\n",
              "      <td>-3.234368</td>\n",
              "      <td>-1.566126</td>\n",
              "      <td>-0.992258</td>\n",
              "      <td>-0.754680</td>\n",
              "      <td>0.042321</td>\n",
              "      <td>...</td>\n",
              "      <td>0.538356</td>\n",
              "      <td>0.656881</td>\n",
              "      <td>0.787490</td>\n",
              "      <td>0.724046</td>\n",
              "      <td>0.555784</td>\n",
              "      <td>0.476333</td>\n",
              "      <td>0.773820</td>\n",
              "      <td>1.119621</td>\n",
              "      <td>-1.436250</td>\n",
              "      <td>1.0</td>\n",
              "    </tr>\n",
              "    <tr>\n",
              "      <th>2</th>\n",
              "      <td>-0.567088</td>\n",
              "      <td>-2.593450</td>\n",
              "      <td>-3.874230</td>\n",
              "      <td>-4.584095</td>\n",
              "      <td>-4.187449</td>\n",
              "      <td>-3.151462</td>\n",
              "      <td>-1.742940</td>\n",
              "      <td>-1.490659</td>\n",
              "      <td>-1.183580</td>\n",
              "      <td>-0.394229</td>\n",
              "      <td>...</td>\n",
              "      <td>0.886073</td>\n",
              "      <td>0.531452</td>\n",
              "      <td>0.311377</td>\n",
              "      <td>-0.021919</td>\n",
              "      <td>-0.713683</td>\n",
              "      <td>-0.532197</td>\n",
              "      <td>0.321097</td>\n",
              "      <td>0.904227</td>\n",
              "      <td>-0.421797</td>\n",
              "      <td>1.0</td>\n",
              "    </tr>\n",
              "    <tr>\n",
              "      <th>3</th>\n",
              "      <td>0.490473</td>\n",
              "      <td>-1.914407</td>\n",
              "      <td>-3.616364</td>\n",
              "      <td>-4.318823</td>\n",
              "      <td>-4.268016</td>\n",
              "      <td>-3.881110</td>\n",
              "      <td>-2.993280</td>\n",
              "      <td>-1.671131</td>\n",
              "      <td>-1.333884</td>\n",
              "      <td>-0.965629</td>\n",
              "      <td>...</td>\n",
              "      <td>0.350816</td>\n",
              "      <td>0.499111</td>\n",
              "      <td>0.600345</td>\n",
              "      <td>0.842069</td>\n",
              "      <td>0.952074</td>\n",
              "      <td>0.990133</td>\n",
              "      <td>1.086798</td>\n",
              "      <td>1.403011</td>\n",
              "      <td>-0.383564</td>\n",
              "      <td>1.0</td>\n",
              "    </tr>\n",
              "    <tr>\n",
              "      <th>4</th>\n",
              "      <td>0.800232</td>\n",
              "      <td>-0.874252</td>\n",
              "      <td>-2.384761</td>\n",
              "      <td>-3.973292</td>\n",
              "      <td>-4.338224</td>\n",
              "      <td>-3.802422</td>\n",
              "      <td>-2.534510</td>\n",
              "      <td>-1.783423</td>\n",
              "      <td>-1.594450</td>\n",
              "      <td>-0.753199</td>\n",
              "      <td>...</td>\n",
              "      <td>1.148884</td>\n",
              "      <td>0.958434</td>\n",
              "      <td>1.059025</td>\n",
              "      <td>1.371682</td>\n",
              "      <td>1.277392</td>\n",
              "      <td>0.960304</td>\n",
              "      <td>0.971020</td>\n",
              "      <td>1.614392</td>\n",
              "      <td>1.421456</td>\n",
              "      <td>1.0</td>\n",
              "    </tr>\n",
              "  </tbody>\n",
              "</table>\n",
              "<p>5 rows × 141 columns</p>\n",
              "</div>\n",
              "      <button class=\"colab-df-convert\" onclick=\"convertToInteractive('df-3c9cc499-07af-4d1d-a848-6a5db889ccbf')\"\n",
              "              title=\"Convert this dataframe to an interactive table.\"\n",
              "              style=\"display:none;\">\n",
              "        \n",
              "  <svg xmlns=\"http://www.w3.org/2000/svg\" height=\"24px\"viewBox=\"0 0 24 24\"\n",
              "       width=\"24px\">\n",
              "    <path d=\"M0 0h24v24H0V0z\" fill=\"none\"/>\n",
              "    <path d=\"M18.56 5.44l.94 2.06.94-2.06 2.06-.94-2.06-.94-.94-2.06-.94 2.06-2.06.94zm-11 1L8.5 8.5l.94-2.06 2.06-.94-2.06-.94L8.5 2.5l-.94 2.06-2.06.94zm10 10l.94 2.06.94-2.06 2.06-.94-2.06-.94-.94-2.06-.94 2.06-2.06.94z\"/><path d=\"M17.41 7.96l-1.37-1.37c-.4-.4-.92-.59-1.43-.59-.52 0-1.04.2-1.43.59L10.3 9.45l-7.72 7.72c-.78.78-.78 2.05 0 2.83L4 21.41c.39.39.9.59 1.41.59.51 0 1.02-.2 1.41-.59l7.78-7.78 2.81-2.81c.8-.78.8-2.07 0-2.86zM5.41 20L4 18.59l7.72-7.72 1.47 1.35L5.41 20z\"/>\n",
              "  </svg>\n",
              "      </button>\n",
              "      \n",
              "  <style>\n",
              "    .colab-df-container {\n",
              "      display:flex;\n",
              "      flex-wrap:wrap;\n",
              "      gap: 12px;\n",
              "    }\n",
              "\n",
              "    .colab-df-convert {\n",
              "      background-color: #E8F0FE;\n",
              "      border: none;\n",
              "      border-radius: 50%;\n",
              "      cursor: pointer;\n",
              "      display: none;\n",
              "      fill: #1967D2;\n",
              "      height: 32px;\n",
              "      padding: 0 0 0 0;\n",
              "      width: 32px;\n",
              "    }\n",
              "\n",
              "    .colab-df-convert:hover {\n",
              "      background-color: #E2EBFA;\n",
              "      box-shadow: 0px 1px 2px rgba(60, 64, 67, 0.3), 0px 1px 3px 1px rgba(60, 64, 67, 0.15);\n",
              "      fill: #174EA6;\n",
              "    }\n",
              "\n",
              "    [theme=dark] .colab-df-convert {\n",
              "      background-color: #3B4455;\n",
              "      fill: #D2E3FC;\n",
              "    }\n",
              "\n",
              "    [theme=dark] .colab-df-convert:hover {\n",
              "      background-color: #434B5C;\n",
              "      box-shadow: 0px 1px 3px 1px rgba(0, 0, 0, 0.15);\n",
              "      filter: drop-shadow(0px 1px 2px rgba(0, 0, 0, 0.3));\n",
              "      fill: #FFFFFF;\n",
              "    }\n",
              "  </style>\n",
              "\n",
              "      <script>\n",
              "        const buttonEl =\n",
              "          document.querySelector('#df-3c9cc499-07af-4d1d-a848-6a5db889ccbf button.colab-df-convert');\n",
              "        buttonEl.style.display =\n",
              "          google.colab.kernel.accessAllowed ? 'block' : 'none';\n",
              "\n",
              "        async function convertToInteractive(key) {\n",
              "          const element = document.querySelector('#df-3c9cc499-07af-4d1d-a848-6a5db889ccbf');\n",
              "          const dataTable =\n",
              "            await google.colab.kernel.invokeFunction('convertToInteractive',\n",
              "                                                     [key], {});\n",
              "          if (!dataTable) return;\n",
              "\n",
              "          const docLinkHtml = 'Like what you see? Visit the ' +\n",
              "            '<a target=\"_blank\" href=https://colab.research.google.com/notebooks/data_table.ipynb>data table notebook</a>'\n",
              "            + ' to learn more about interactive tables.';\n",
              "          element.innerHTML = '';\n",
              "          dataTable['output_type'] = 'display_data';\n",
              "          await google.colab.output.renderOutput(dataTable, element);\n",
              "          const docLink = document.createElement('div');\n",
              "          docLink.innerHTML = docLinkHtml;\n",
              "          element.appendChild(docLink);\n",
              "        }\n",
              "      </script>\n",
              "    </div>\n",
              "  </div>\n",
              "  "
            ]
          },
          "metadata": {},
          "execution_count": 2
        }
      ]
    },
    {
      "cell_type": "code",
      "source": [
        "plt.plot(df.iloc[45])"
      ],
      "metadata": {
        "colab": {
          "base_uri": "https://localhost:8080/"
        },
        "id": "Chts9WlPr_Qg",
        "outputId": "a1cfbc8a-b271-4bc5-ebf5-7738cfc6499b"
      },
      "execution_count": null,
      "outputs": [
        {
          "output_type": "execute_result",
          "data": {
            "text/plain": [
              "[<matplotlib.lines.Line2D at 0x7fd322978e50>]"
            ]
          },
          "metadata": {},
          "execution_count": 3
        },
        {
          "output_type": "display_data",
          "data": {
            "text/plain": [
              "<Figure size 640x480 with 1 Axes>"
            ],
            "image/png": "[encoded data removed]"
          },
          "metadata": {}
        }
      ]
    },
    {
      "cell_type": "code",
      "source": [
        "df.info()"
      ],
      "metadata": {
        "colab": {
          "base_uri": "https://localhost:8080/"
        },
        "id": "XhaTHGiAsQJ6",
        "outputId": "1880ba00-0327-4ebe-b620-acc424af175c"
      },
      "execution_count": null,
      "outputs": [
        {
          "output_type": "stream",
          "name": "stdout",
          "text": [
            "<class 'pandas.core.frame.DataFrame'>\n",
            "RangeIndex: 4998 entries, 0 to 4997\n",
            "Columns: 141 entries, 0 to 140\n",
            "dtypes: float64(141)\n",
            "memory usage: 5.4 MB\n"
          ]
        }
      ]
    },
    {
      "cell_type": "code",
      "source": [
        "(df.count()!= 4998).unique()"
      ],
      "metadata": {
        "colab": {
          "base_uri": "https://localhost:8080/"
        },
        "id": "nC_bdkr5sYsU",
        "outputId": "ce0ac858-7fea-48a0-f841-35b34a96c841"
      },
      "execution_count": null,
      "outputs": [
        {
          "output_type": "execute_result",
          "data": {
            "text/plain": [
              "array([False])"
            ]
          },
          "metadata": {},
          "execution_count": 5
        }
      ]
    },
    {
      "cell_type": "code",
      "source": [
        "df.describe()"
      ],
      "metadata": {
        "colab": {
          "base_uri": "https://localhost:8080/"
        },
        "id": "OjiLlnXHsbHh",
        "outputId": "c6268bc7-dfea-4d8c-f729-5d2c2b83c313"
      },
      "execution_count": null,
      "outputs": [
        {
          "output_type": "execute_result",
          "data": {
            "text/plain": [
              "               0            1            2            3            4    \\\n",
              "count  4998.000000  4998.000000  4998.000000  4998.000000  4998.000000   \n",
              "mean     -0.262502    -1.649828    -2.492623    -3.119754    -3.167656   \n",
              "std       1.152450     1.445542     1.386457     1.302921     1.104535   \n",
              "min      -6.729499    -7.090374    -5.132459    -5.363241    -5.375715   \n",
              "25%      -1.004220    -2.701936    -3.668585    -4.227337    -4.007630   \n",
              "50%      -0.297541    -1.661892    -2.586129    -3.388210    -3.469899   \n",
              "75%       0.499909    -0.677998    -1.514187    -2.235690    -2.531153   \n",
              "max       4.966414     3.479689     2.660597     1.899798     2.147015   \n",
              "\n",
              "               5            6            7            8            9    ...  \\\n",
              "count  4998.000000  4998.000000  4998.000000  4998.000000  4998.000000  ...   \n",
              "mean     -2.866306    -2.272845    -1.797754    -1.409784    -0.935806  ...   \n",
              "std       0.906312     0.731594     0.622794     0.636863     0.657788  ...   \n",
              "min      -5.330194    -4.782240    -4.311288    -4.071361    -4.142476  ...   \n",
              "25%      -3.480666    -2.779832    -2.165808    -1.773870    -1.362003  ...   \n",
              "50%      -2.947061    -2.285427    -1.750084    -1.422457    -0.910384  ...   \n",
              "75%      -2.398797    -1.823480    -1.484107    -1.063592    -0.476477  ...   \n",
              "max       1.614375     1.868728     1.804251     1.683730     1.898627  ...   \n",
              "\n",
              "               131          132          133          134          135  \\\n",
              "count  4998.000000  4998.000000  4998.000000  4998.000000  4998.000000   \n",
              "mean      0.071312    -0.062622    -0.276086    -0.507750    -0.761323   \n",
              "std       1.404425     1.646105     1.894515     2.059366     2.086130   \n",
              "min      -4.167040    -4.557576    -4.530488    -4.563270    -5.150100   \n",
              "25%      -1.087720    -1.588237    -2.146835    -2.730750    -3.031224   \n",
              "50%       0.658318     0.717808     0.604747     0.334857    -0.030767   \n",
              "75%       1.169392     1.238651     1.264379     1.234408     1.033957   \n",
              "max       3.007606     2.854680     2.912394     2.937685     3.351437   \n",
              "\n",
              "               136          137          138          139          140  \n",
              "count  4998.000000  4998.000000  4998.000000  4998.000000  4998.000000  \n",
              "mean     -0.835173    -0.642739    -0.487667    -0.706574     0.584034  \n",
              "std       2.056296     1.859409     1.831088     1.414414     0.492937  \n",
              "min      -4.880460    -5.496107    -5.880890    -6.092227     0.000000  \n",
              "25%      -2.868603    -2.154560    -1.658289    -1.596809     0.000000  \n",
              "50%      -0.195151    -0.194423    -0.160262    -0.568443     1.000000  \n",
              "75%       0.945027     0.951621     1.002628     0.271635     1.000000  \n",
              "max       3.432519     3.579448     4.425976     7.402103     1.000000  \n",
              "\n",
              "[8 rows x 141 columns]"
            ],
            "text/html": [
              "\n",
              "  <div id=\"df-48f20f86-2b4d-445e-877f-312070c98edc\">\n",
              "    <div class=\"colab-df-container\">\n",
              "      <div>\n",
              "<style scoped>\n",
              "    .dataframe tbody tr th:only-of-type {\n",
              "        vertical-align: middle;\n",
              "    }\n",
              "\n",
              "    .dataframe tbody tr th {\n",
              "        vertical-align: top;\n",
              "    }\n",
              "\n",
              "    .dataframe thead th {\n",
              "        text-align: right;\n",
              "    }\n",
              "</style>\n",
              "<table border=\"1\" class=\"dataframe\">\n",
              "  <thead>\n",
              "    <tr style=\"text-align: right;\">\n",
              "      <th></th>\n",
              "      <th>0</th>\n",
              "      <th>1</th>\n",
              "      <th>2</th>\n",
              "      <th>3</th>\n",
              "      <th>4</th>\n",
              "      <th>5</th>\n",
              "      <th>6</th>\n",
              "      <th>7</th>\n",
              "      <th>8</th>\n",
              "      <th>9</th>\n",
              "      <th>...</th>\n",
              "      <th>131</th>\n",
              "      <th>132</th>\n",
              "      <th>133</th>\n",
              "      <th>134</th>\n",
              "      <th>135</th>\n",
              "      <th>136</th>\n",
              "      <th>137</th>\n",
              "      <th>138</th>\n",
              "      <th>139</th>\n",
              "      <th>140</th>\n",
              "    </tr>\n",
              "  </thead>\n",
              "  <tbody>\n",
              "    <tr>\n",
              "      <th>count</th>\n",
              "      <td>4998.000000</td>\n",
              "      <td>4998.000000</td>\n",
              "      <td>4998.000000</td>\n",
              "      <td>4998.000000</td>\n",
              "      <td>4998.000000</td>\n",
              "      <td>4998.000000</td>\n",
              "      <td>4998.000000</td>\n",
              "      <td>4998.000000</td>\n",
              "      <td>4998.000000</td>\n",
              "      <td>4998.000000</td>\n",
              "      <td>...</td>\n",
              "      <td>4998.000000</td>\n",
              "      <td>4998.000000</td>\n",
              "      <td>4998.000000</td>\n",
              "      <td>4998.000000</td>\n",
              "      <td>4998.000000</td>\n",
              "      <td>4998.000000</td>\n",
              "      <td>4998.000000</td>\n",
              "      <td>4998.000000</td>\n",
              "      <td>4998.000000</td>\n",
              "      <td>4998.000000</td>\n",
              "    </tr>\n",
              "    <tr>\n",
              "      <th>mean</th>\n",
              "      <td>-0.262502</td>\n",
              "      <td>-1.649828</td>\n",
              "      <td>-2.492623</td>\n",
              "      <td>-3.119754</td>\n",
              "      <td>-3.167656</td>\n",
              "      <td>-2.866306</td>\n",
              "      <td>-2.272845</td>\n",
              "      <td>-1.797754</td>\n",
              "      <td>-1.409784</td>\n",
              "      <td>-0.935806</td>\n",
              "      <td>...</td>\n",
              "      <td>0.071312</td>\n",
              "      <td>-0.062622</td>\n",
              "      <td>-0.276086</td>\n",
              "      <td>-0.507750</td>\n",
              "      <td>-0.761323</td>\n",
              "      <td>-0.835173</td>\n",
              "      <td>-0.642739</td>\n",
              "      <td>-0.487667</td>\n",
              "      <td>-0.706574</td>\n",
              "      <td>0.584034</td>\n",
              "    </tr>\n",
              "    <tr>\n",
              "      <th>std</th>\n",
              "      <td>1.152450</td>\n",
              "      <td>1.445542</td>\n",
              "      <td>1.386457</td>\n",
              "      <td>1.302921</td>\n",
              "      <td>1.104535</td>\n",
              "      <td>0.906312</td>\n",
              "      <td>0.731594</td>\n",
              "      <td>0.622794</td>\n",
              "      <td>0.636863</td>\n",
              "      <td>0.657788</td>\n",
              "      <td>...</td>\n",
              "      <td>1.404425</td>\n",
              "      <td>1.646105</td>\n",
              "      <td>1.894515</td>\n",
              "      <td>2.059366</td>\n",
              "      <td>2.086130</td>\n",
              "      <td>2.056296</td>\n",
              "      <td>1.859409</td>\n",
              "      <td>1.831088</td>\n",
              "      <td>1.414414</td>\n",
              "      <td>0.492937</td>\n",
              "    </tr>\n",
              "    <tr>\n",
              "      <th>min</th>\n",
              "      <td>-6.729499</td>\n",
              "      <td>-7.090374</td>\n",
              "      <td>-5.132459</td>\n",
              "      <td>-5.363241</td>\n",
              "      <td>-5.375715</td>\n",
              "      <td>-5.330194</td>\n",
              "      <td>-4.782240</td>\n",
              "      <td>-4.311288</td>\n",
              "      <td>-4.071361</td>\n",
              "      <td>-4.142476</td>\n",
              "      <td>...</td>\n",
              "      <td>-4.167040</td>\n",
              "      <td>-4.557576</td>\n",
              "      <td>-4.530488</td>\n",
              "      <td>-4.563270</td>\n",
              "      <td>-5.150100</td>\n",
              "      <td>-4.880460</td>\n",
              "      <td>-5.496107</td>\n",
              "      <td>-5.880890</td>\n",
              "      <td>-6.092227</td>\n",
              "      <td>0.000000</td>\n",
              "    </tr>\n",
              "    <tr>\n",
              "      <th>25%</th>\n",
              "      <td>-1.004220</td>\n",
              "      <td>-2.701936</td>\n",
              "      <td>-3.668585</td>\n",
              "      <td>-4.227337</td>\n",
              "      <td>-4.007630</td>\n",
              "      <td>-3.480666</td>\n",
              "      <td>-2.779832</td>\n",
              "      <td>-2.165808</td>\n",
              "      <td>-1.773870</td>\n",
              "      <td>-1.362003</td>\n",
              "      <td>...</td>\n",
              "      <td>-1.087720</td>\n",
              "      <td>-1.588237</td>\n",
              "      <td>-2.146835</td>\n",
              "      <td>-2.730750</td>\n",
              "      <td>-3.031224</td>\n",
              "      <td>-2.868603</td>\n",
              "      <td>-2.154560</td>\n",
              "      <td>-1.658289</td>\n",
              "      <td>-1.596809</td>\n",
              "      <td>0.000000</td>\n",
              "    </tr>\n",
              "    <tr>\n",
              "      <th>50%</th>\n",
              "      <td>-0.297541</td>\n",
              "      <td>-1.661892</td>\n",
              "      <td>-2.586129</td>\n",
              "      <td>-3.388210</td>\n",
              "      <td>-3.469899</td>\n",
              "      <td>-2.947061</td>\n",
              "      <td>-2.285427</td>\n",
              "      <td>-1.750084</td>\n",
              "      <td>-1.422457</td>\n",
              "      <td>-0.910384</td>\n",
              "      <td>...</td>\n",
              "      <td>0.658318</td>\n",
              "      <td>0.717808</td>\n",
              "      <td>0.604747</td>\n",
              "      <td>0.334857</td>\n",
              "      <td>-0.030767</td>\n",
              "      <td>-0.195151</td>\n",
              "      <td>-0.194423</td>\n",
              "      <td>-0.160262</td>\n",
              "      <td>-0.568443</td>\n",
              "      <td>1.000000</td>\n",
              "    </tr>\n",
              "    <tr>\n",
              "      <th>75%</th>\n",
              "      <td>0.499909</td>\n",
              "      <td>-0.677998</td>\n",
              "      <td>-1.514187</td>\n",
              "      <td>-2.235690</td>\n",
              "      <td>-2.531153</td>\n",
              "      <td>-2.398797</td>\n",
              "      <td>-1.823480</td>\n",
              "      <td>-1.484107</td>\n",
              "      <td>-1.063592</td>\n",
              "      <td>-0.476477</td>\n",
              "      <td>...</td>\n",
              "      <td>1.169392</td>\n",
              "      <td>1.238651</td>\n",
              "      <td>1.264379</td>\n",
              "      <td>1.234408</td>\n",
              "      <td>1.033957</td>\n",
              "      <td>0.945027</td>\n",
              "      <td>0.951621</td>\n",
              "      <td>1.002628</td>\n",
              "      <td>0.271635</td>\n",
              "      <td>1.000000</td>\n",
              "    </tr>\n",
              "    <tr>\n",
              "      <th>max</th>\n",
              "      <td>4.966414</td>\n",
              "      <td>3.479689</td>\n",
              "      <td>2.660597</td>\n",
              "      <td>1.899798</td>\n",
              "      <td>2.147015</td>\n",
              "      <td>1.614375</td>\n",
              "      <td>1.868728</td>\n",
              "      <td>1.804251</td>\n",
              "      <td>1.683730</td>\n",
              "      <td>1.898627</td>\n",
              "      <td>...</td>\n",
              "      <td>3.007606</td>\n",
              "      <td>2.854680</td>\n",
              "      <td>2.912394</td>\n",
              "      <td>2.937685</td>\n",
              "      <td>3.351437</td>\n",
              "      <td>3.432519</td>\n",
              "      <td>3.579448</td>\n",
              "      <td>4.425976</td>\n",
              "      <td>7.402103</td>\n",
              "      <td>1.000000</td>\n",
              "    </tr>\n",
              "  </tbody>\n",
              "</table>\n",
              "<p>8 rows × 141 columns</p>\n",
              "</div>\n",
              "      <button class=\"colab-df-convert\" onclick=\"convertToInteractive('df-48f20f86-2b4d-445e-877f-312070c98edc')\"\n",
              "              title=\"Convert this dataframe to an interactive table.\"\n",
              "              style=\"display:none;\">\n",
              "        \n",
              "  <svg xmlns=\"http://www.w3.org/2000/svg\" height=\"24px\"viewBox=\"0 0 24 24\"\n",
              "       width=\"24px\">\n",
              "    <path d=\"M0 0h24v24H0V0z\" fill=\"none\"/>\n",
              "    <path d=\"M18.56 5.44l.94 2.06.94-2.06 2.06-.94-2.06-.94-.94-2.06-.94 2.06-2.06.94zm-11 1L8.5 8.5l.94-2.06 2.06-.94-2.06-.94L8.5 2.5l-.94 2.06-2.06.94zm10 10l.94 2.06.94-2.06 2.06-.94-2.06-.94-.94-2.06-.94 2.06-2.06.94z\"/><path d=\"M17.41 7.96l-1.37-1.37c-.4-.4-.92-.59-1.43-.59-.52 0-1.04.2-1.43.59L10.3 9.45l-7.72 7.72c-.78.78-.78 2.05 0 2.83L4 21.41c.39.39.9.59 1.41.59.51 0 1.02-.2 1.41-.59l7.78-7.78 2.81-2.81c.8-.78.8-2.07 0-2.86zM5.41 20L4 18.59l7.72-7.72 1.47 1.35L5.41 20z\"/>\n",
              "  </svg>\n",
              "      </button>\n",
              "      \n",
              "  <style>\n",
              "    .colab-df-container {\n",
              "      display:flex;\n",
              "      flex-wrap:wrap;\n",
              "      gap: 12px;\n",
              "    }\n",
              "\n",
              "    .colab-df-convert {\n",
              "      background-color: #E8F0FE;\n",
              "      border: none;\n",
              "      border-radius: 50%;\n",
              "      cursor: pointer;\n",
              "      display: none;\n",
              "      fill: #1967D2;\n",
              "      height: 32px;\n",
              "      padding: 0 0 0 0;\n",
              "      width: 32px;\n",
              "    }\n",
              "\n",
              "    .colab-df-convert:hover {\n",
              "      background-color: #E2EBFA;\n",
              "      box-shadow: 0px 1px 2px rgba(60, 64, 67, 0.3), 0px 1px 3px 1px rgba(60, 64, 67, 0.15);\n",
              "      fill: #174EA6;\n",
              "    }\n",
              "\n",
              "    [theme=dark] .colab-df-convert {\n",
              "      background-color: #3B4455;\n",
              "      fill: #D2E3FC;\n",
              "    }\n",
              "\n",
              "    [theme=dark] .colab-df-convert:hover {\n",
              "      background-color: #434B5C;\n",
              "      box-shadow: 0px 1px 3px 1px rgba(0, 0, 0, 0.15);\n",
              "      filter: drop-shadow(0px 1px 2px rgba(0, 0, 0, 0.3));\n",
              "      fill: #FFFFFF;\n",
              "    }\n",
              "  </style>\n",
              "\n",
              "      <script>\n",
              "        const buttonEl =\n",
              "          document.querySelector('#df-48f20f86-2b4d-445e-877f-312070c98edc button.colab-df-convert');\n",
              "        buttonEl.style.display =\n",
              "          google.colab.kernel.accessAllowed ? 'block' : 'none';\n",
              "\n",
              "        async function convertToInteractive(key) {\n",
              "          const element = document.querySelector('#df-48f20f86-2b4d-445e-877f-312070c98edc');\n",
              "          const dataTable =\n",
              "            await google.colab.kernel.invokeFunction('convertToInteractive',\n",
              "                                                     [key], {});\n",
              "          if (!dataTable) return;\n",
              "\n",
              "          const docLinkHtml = 'Like what you see? Visit the ' +\n",
              "            '<a target=\"_blank\" href=https://colab.research.google.com/notebooks/data_table.ipynb>data table notebook</a>'\n",
              "            + ' to learn more about interactive tables.';\n",
              "          element.innerHTML = '';\n",
              "          dataTable['output_type'] = 'display_data';\n",
              "          await google.colab.output.renderOutput(dataTable, element);\n",
              "          const docLink = document.createElement('div');\n",
              "          docLink.innerHTML = docLinkHtml;\n",
              "          element.appendChild(docLink);\n",
              "        }\n",
              "      </script>\n",
              "    </div>\n",
              "  </div>\n",
              "  "
            ]
          },
          "metadata": {},
          "execution_count": 6
        }
      ]
    },
    {
      "cell_type": "code",
      "source": [
        "by_label  = df.groupby(140).count()\n",
        "by_label.unstack(0)[0]"
      ],
      "metadata": {
        "colab": {
          "base_uri": "https://localhost:8080/"
        },
        "id": "Io8hhcn7ssmq",
        "outputId": "3b1e2b1b-347d-488a-884d-3b8de150a079"
      },
      "execution_count": null,
      "outputs": [
        {
          "output_type": "execute_result",
          "data": {
            "text/plain": [
              "140\n",
              "0.0    2079\n",
              "1.0    2919\n",
              "dtype: int64"
            ]
          },
          "metadata": {},
          "execution_count": 7
        }
      ]
    },
    {
      "cell_type": "code",
      "source": [],
      "metadata": {
        "id": "Z652Bfj7iw5x"
      },
      "execution_count": null,
      "outputs": []
    },
    {
      "cell_type": "code",
      "source": [
        "data = df.iloc[:,:-1].values\n",
        "labels = df.iloc[:,-1].values\n",
        "labels"
      ],
      "metadata": {
        "colab": {
          "base_uri": "https://localhost:8080/"
        },
        "id": "nx4b0z8fuODF",
        "outputId": "4b4c7860-e89d-43a1-e419-59604ea334f9"
      },
      "execution_count": null,
      "outputs": [
        {
          "output_type": "execute_result",
          "data": {
            "text/plain": [
              "array([1., 1., 1., ..., 0., 0., 0.])"
            ]
          },
          "metadata": {},
          "execution_count": 8
        }
      ]
    },
    {
      "cell_type": "code",
      "source": [
        "# print(labels.shape)"
      ],
      "metadata": {
        "id": "dngciyGOuSb0"
      },
      "execution_count": null,
      "outputs": []
    },
    {
      "cell_type": "code",
      "source": [],
      "metadata": {
        "id": "Y8in23BP3kRg"
      },
      "execution_count": null,
      "outputs": []
    },
    {
      "cell_type": "code",
      "source": [
        "from sklearn.model_selection import train_test_split, GridSearchCV\n",
        "train_data, test_data, train_labels, test_labels = train_test_split(data, labels, test_size = 0.2, random_state = 123)\n",
        "print('train data shape: ', train_data.shape)\n",
        "print('test data shape: ', test_data.shape)\n",
        "print('train labels shape: ', train_labels.shape)\n",
        "print('test labels shape: ', test_labels.shape)"
      ],
      "metadata": {
        "colab": {
          "base_uri": "https://localhost:8080/"
        },
        "id": "TzMRK-eRuXSM",
        "outputId": "0b1d0d9c-37fe-4580-e2b9-aaad4c3ca194"
      },
      "execution_count": null,
      "outputs": [
        {
          "output_type": "stream",
          "name": "stdout",
          "text": [
            "train data shape:  (3998, 140)\n",
            "test data shape:  (1000, 140)\n",
            "train labels shape:  (3998,)\n",
            "test labels shape:  (1000,)\n"
          ]
        }
      ]
    },
    {
      "cell_type": "code",
      "source": [
        "#Now lets Normalize the data -1 1\n",
        "# Calculate the minimum and maximum values from the training set\n",
        "data_min = tf.reduce_min(train_data)\n",
        "data_max = tf.reduce_max(train_data)\n",
        "\n",
        "# Normalize the training data to the range [-1, 1]\n",
        "train_data = (train_data - data_min) / (data_max - data_min) * 2 - 1\n",
        "\n",
        "# Normalize the test data using the same minimum and maximum values\n",
        "test_data = (test_data - data_min) / (data_max - data_min) * 2 - 1\n",
        "\n",
        "# Cast the normalized data to the tf.float32 data type\n",
        "train_data_float = tf.cast(train_data, dtype=tf.float32)\n",
        "test_data_float = tf.cast(test_data, dtype=tf.float32)\n"
      ],
      "metadata": {
        "id": "FKBQdwn_333c"
      },
      "execution_count": null,
      "outputs": []
    },
    {
      "cell_type": "code",
      "source": [
        "normal_ecg = train_data[5]\n",
        "plt.plot(normal_ecg)"
      ],
      "metadata": {
        "colab": {
          "base_uri": "https://localhost:8080/"
        },
        "id": "1473iuShvP0m",
        "outputId": "b2e9b5ce-1b45-4626-acc5-5a4101f2cb40"
      },
      "execution_count": null,
      "outputs": [
        {
          "output_type": "execute_result",
          "data": {
            "text/plain": [
              "[<matplotlib.lines.Line2D at 0x7fd3101fe7a0>]"
            ]
          },
          "metadata": {},
          "execution_count": 12
        },
        {
          "output_type": "display_data",
          "data": {
            "text/plain": [
              "<Figure size 640x480 with 1 Axes>"
            ],
            "image/png": "[encoded data removed]"
          },
          "metadata": {}
        }
      ]
    },
    {
      "cell_type": "code",
      "source": [
        "#The labels are either 0 or 1, so I will convert them into boolean\n",
        "train_labels = train_labels.astype(bool)\n",
        "test_labels = test_labels.astype(bool)\n",
        "\n",
        "#Now let's separate the data for normal ECG from that of abnormal ones\n",
        "#Normal ECG data\n",
        "normal_train_data = train_data[train_labels]\n",
        "normal_test_data = test_data[test_labels]\n",
        "\n",
        "\n",
        "#transforming to tensorflow.float type\n",
        "normal_train_data_float = tf.cast(normal_train_data, dtype=tf.float32)\n",
        "normal_test_data_float = tf.cast(normal_test_data, dtype=tf.float32)\n",
        "\n",
        "#transforming to pd.dataframe:\n",
        "normal_train_data_df = pd.DataFrame(normal_train_data, columns = df.columns[0:140])\n",
        "normal_test_data_df = pd.DataFrame(normal_test_data, columns = df.columns[0:140])\n",
        "\n",
        "#shapes\n",
        "print('normal train data df shape: ', normal_train_data_df.shape)\n",
        "print('normal test data df shape: ', normal_test_data_df.shape)\n",
        "\n",
        "#Abnormal ECG data\n",
        "\n",
        "abnormal_train_data = train_data[~train_labels]\n",
        "abnormal_test_data = test_data[~test_labels]\n",
        "\n",
        "#transforming to tensorflow.float type\n",
        "abnormal_train_data_float = tf.cast(abnormal_train_data, dtype=tf.float32)\n",
        "abnormal_test_data_float = tf.cast(abnormal_test_data, dtype=tf.float32)\n",
        "\n",
        "#transforming to pd.dataframe:\n",
        "abnormal_train_data_df = pd.DataFrame(abnormal_train_data, columns = df.columns[0:140])\n",
        "abnormal_test_data_df = pd.DataFrame(abnormal_test_data, columns = df.columns[0:140])\n",
        "\n",
        "#shapes\n",
        "print('abnormal train data df shape: ', abnormal_train_data_df.shape)\n",
        "print('abnormal test data df shape: ', abnormal_test_data_df.shape)\n",
        "\n",
        "\n"
      ],
      "metadata": {
        "colab": {
          "base_uri": "https://localhost:8080/"
        },
        "id": "Oe5LuvwMyHF8",
        "outputId": "36c661e7-e8ca-42db-f2d0-de59ea0a9038"
      },
      "execution_count": null,
      "outputs": [
        {
          "output_type": "stream",
          "name": "stdout",
          "text": [
            "normal train data df shape:  (2323, 140)\n",
            "normal test data df shape:  (596, 140)\n",
            "abnormal train data df shape:  (1675, 140)\n",
            "abnormal test data df shape:  (404, 140)\n"
          ]
        }
      ]
    },
    {
      "cell_type": "code",
      "source": [
        "#Lets plot a normal ECG\n",
        "normal_ecg = normal_train_data[0]\n",
        "plt.plot(np.arange(140), normal_ecg)\n",
        "plt.grid()\n",
        "plt.title('Normal ECG')\n",
        "plt.show()"
      ],
      "metadata": {
        "colab": {
          "base_uri": "https://localhost:8080/"
        },
        "id": "xxkjOa6lzb0h",
        "outputId": "47ac2170-8e0c-4440-9428-4d49ca594e6c"
      },
      "execution_count": null,
      "outputs": [
        {
          "output_type": "display_data",
          "data": {
            "text/plain": [
              "<Figure size 640x480 with 1 Axes>"
            ],
            "image/png": "[encoded data removed]"
          },
          "metadata": {}
        }
      ]
    },
    {
      "cell_type": "code",
      "source": [
        "#Lets plot one from abnormal ECG\n",
        "abnormal_ecg = abnormal_train_data[0]\n",
        "plt.plot(np.arange(140),abnormal_ecg )\n",
        "plt.grid()\n",
        "plt.title('Abnormal ECG')\n",
        "plt.show()"
      ],
      "metadata": {
        "colab": {
          "base_uri": "https://localhost:8080/"
        },
        "id": "Tx17AIORzi2F",
        "outputId": "e8be693a-2341-4db1-e07b-a3ab3637a9f5"
      },
      "execution_count": null,
      "outputs": [
        {
          "output_type": "display_data",
          "data": {
            "text/plain": [
              "<Figure size 640x480 with 1 Axes>"
            ],
            "image/png": "[encoded data removed]"
          },
          "metadata": {}
        }
      ]
    },
    {
      "cell_type": "markdown",
      "source": [
        "# **model**"
      ],
      "metadata": {
        "id": "WxGXhkYezo9E"
      }
    },
    {
      "cell_type": "code",
      "source": [],
      "metadata": {
        "id": "lVgWobCZzpPc"
      },
      "execution_count": null,
      "outputs": []
    },
    {
      "cell_type": "code",
      "source": [
        "# the generator \n",
        "\n",
        "import tensorflow as tf\n",
        "from tensorflow.keras import layers\n",
        "\n",
        "def make_generator_model():\n",
        "    model = tf.keras.Sequential()\n",
        "    \n",
        "    # Dense layer with more neurons\n",
        "    model.add(layers.Dense(100*140, activation=\"relu\", input_dim=140))\n",
        "    \n",
        "    # Reshape layer\n",
        "    model.add(layers.Reshape((140, 100)))\n",
        "    \n",
        "    # LSTM layers\n",
        "    model.add(layers.Bidirectional(layers.LSTM(64, return_sequences=True)))\n",
        "    model.add(layers.Bidirectional(layers.LSTM(64, return_sequences=True)))\n",
        "    \n",
        "    # Conv1DTranspose layers with skip connections\n",
        "    model.add(layers.Conv1DTranspose(filters=1, kernel_size=16, strides=1, padding=\"same\", activation=\"relu\"))\n",
        "    model.add(layers.BatchNormalization())\n",
        "    \n",
        "    model.add(layers.Conv1DTranspose(filters=1, kernel_size=16, strides=1, padding=\"same\", activation=\"relu\"))\n",
        "    model.add(layers.BatchNormalization())\n",
        "    \n",
        "    model.add(layers.Conv1DTranspose(filters=1, kernel_size=16, strides=1, padding=\"same\", activation=\"tanh\"))\n",
        "    \n",
        "    return model\n",
        "\n",
        "\n",
        "import tensorflow as tf\n",
        "from tensorflow.keras import layers\n",
        "\n",
        "def make_discriminator_model():\n",
        "    model = tf.keras.Sequential()\n",
        "    \n",
        "    # Conv1D layers\n",
        "    model.add(layers.Conv1D(filters=32, kernel_size=16, strides=1, padding=\"same\", input_shape=(140, 1)))\n",
        "    model.add(layers.LeakyReLU())\n",
        "    model.add(layers.Conv1D(filters=64, kernel_size=16, strides=1, padding=\"same\"))\n",
        "    model.add(layers.LeakyReLU())\n",
        "    model.add(layers.BatchNormalization())\n",
        "    model.add(layers.MaxPooling1D(pool_size=2))\n",
        "    model.add(layers.Dropout(0.3))\n",
        "    \n",
        "    model.add(layers.Conv1D(filters=128, kernel_size=16, strides=1, padding=\"same\"))\n",
        "    model.add(layers.LeakyReLU())\n",
        "    model.add(layers.Conv1D(filters=256, kernel_size=16, strides=1, padding=\"same\"))\n",
        "    model.add(layers.LeakyReLU())\n",
        "    model.add(layers.BatchNormalization())\n",
        "    model.add(layers.MaxPooling1D(pool_size=2))\n",
        "    model.add(layers.Dropout(0.3))\n",
        "    \n",
        "    # Flatten and dense layer\n",
        "    model.add(layers.Flatten())\n",
        "    model.add(layers.Dense(256))\n",
        "    model.add(layers.LeakyReLU())\n",
        "    \n",
        "    # Output layer\n",
        "    model.add(layers.Dense(1, activation='sigmoid'))\n",
        "    \n",
        "    return model\n",
        "\n",
        "generator = make_generator_model()\n",
        "discriminator = make_discriminator_model()\n",
        "\n",
        "generator.summary()\n",
        "discriminator.summary()\n",
        "\n"
      ],
      "metadata": {
        "colab": {
          "base_uri": "https://localhost:8080/"
        },
        "id": "XctFbKaB180A",
        "outputId": "07e8bac8-c95c-4914-c407-83617a32d98f"
      },
      "execution_count": null,
      "outputs": [
        {
          "output_type": "stream",
          "name": "stdout",
          "text": [
            "Model: \"sequential\"\n",
            "_________________________________________________________________\n",
            " Layer (type)                Output Shape              Param #   \n",
            "=================================================================\n",
            " dense (Dense)               (None, 14000)             1974000   \n",
            "                                                                 \n",
            " reshape (Reshape)           (None, 140, 100)          0         \n",
            "                                                                 \n",
            " bidirectional (Bidirectiona  (None, 140, 128)         84480     \n",
            " l)                                                              \n",
            "                                                                 \n",
            " bidirectional_1 (Bidirectio  (None, 140, 128)         98816     \n",
            " nal)                                                            \n",
            "                                                                 \n",
            " conv1d_transpose (Conv1DTra  (None, 140, 1)           2049      \n",
            " nspose)                                                         \n",
            "                                                                 \n",
            " batch_normalization (BatchN  (None, 140, 1)           4         \n",
            " ormalization)                                                   \n",
            "                                                                 \n",
            " conv1d_transpose_1 (Conv1DT  (None, 140, 1)           17        \n",
            " ranspose)                                                       \n",
            "                                                                 \n",
            " batch_normalization_1 (Batc  (None, 140, 1)           4         \n",
            " hNormalization)                                                 \n",
            "                                                                 \n",
            " conv1d_transpose_2 (Conv1DT  (None, 140, 1)           17        \n",
            " ranspose)                                                       \n",
            "                                                                 \n",
            "=================================================================\n",
            "Total params: 2,159,387\n",
            "Trainable params: 2,159,383\n",
            "Non-trainable params: 4\n",
            "_________________________________________________________________\n",
            "Model: \"sequential_1\"\n",
            "_________________________________________________________________\n",
            " Layer (type)                Output Shape              Param #   \n",
            "=================================================================\n",
            " conv1d (Conv1D)             (None, 140, 32)           544       \n",
            "                                                                 \n",
            " leaky_re_lu (LeakyReLU)     (None, 140, 32)           0         \n",
            "                                                                 \n",
            " conv1d_1 (Conv1D)           (None, 140, 64)           32832     \n",
            "                                                                 \n",
            " leaky_re_lu_1 (LeakyReLU)   (None, 140, 64)           0         \n",
            "                                                                 \n",
            " batch_normalization_2 (Batc  (None, 140, 64)          256       \n",
            " hNormalization)                                                 \n",
            "                                                                 \n",
            " max_pooling1d (MaxPooling1D  (None, 70, 64)           0         \n",
            " )                                                               \n",
            "                                                                 \n",
            " dropout (Dropout)           (None, 70, 64)            0         \n",
            "                                                                 \n",
            " conv1d_2 (Conv1D)           (None, 70, 128)           131200    \n",
            "                                                                 \n",
            " leaky_re_lu_2 (LeakyReLU)   (None, 70, 128)           0         \n",
            "                                                                 \n",
            " conv1d_3 (Conv1D)           (None, 70, 256)           524544    \n",
            "                                                                 \n",
            " leaky_re_lu_3 (LeakyReLU)   (None, 70, 256)           0         \n",
            "                                                                 \n",
            " batch_normalization_3 (Batc  (None, 70, 256)          1024      \n",
            " hNormalization)                                                 \n",
            "                                                                 \n",
            " max_pooling1d_1 (MaxPooling  (None, 35, 256)          0         \n",
            " 1D)                                                             \n",
            "                                                                 \n",
            " dropout_1 (Dropout)         (None, 35, 256)           0         \n",
            "                                                                 \n",
            " flatten (Flatten)           (None, 8960)              0         \n",
            "                                                                 \n",
            " dense_1 (Dense)             (None, 256)               2294016   \n",
            "                                                                 \n",
            " leaky_re_lu_4 (LeakyReLU)   (None, 256)               0         \n",
            "                                                                 \n",
            " dense_2 (Dense)             (None, 1)                 257       \n",
            "                                                                 \n",
            "=================================================================\n",
            "Total params: 2,984,673\n",
            "Trainable params: 2,984,033\n",
            "Non-trainable params: 640\n",
            "_________________________________________________________________\n"
          ]
        }
      ]
    },
    {
      "cell_type": "code",
      "source": [
        "def generate_noise(batch_size, noise_dim):\n",
        "    \"\"\"\n",
        "    Generates random noise of shape (batch_size, noise_dim) between -1 and 1.\n",
        "    \"\"\"\n",
        "    return tf.random.uniform([batch_size, noise_dim], minval=-1, maxval=1)\n",
        "\n",
        "\n",
        "def generate_fake_signals(generator, noise):\n",
        "    \"\"\"\n",
        "    Generates synthetic ECG signals from random noise using the generator model.\n",
        "    \"\"\"\n",
        "    return generator(noise)"
      ],
      "metadata": {
        "id": "-pG9VXJK9VGE"
      },
      "execution_count": null,
      "outputs": []
    },
    {
      "cell_type": "code",
      "source": [
        "# Define the loss function for the generator\n",
        "def generator_loss(fake_output):\n",
        "    return tf.keras.losses.BinaryCrossentropy(from_logits=True)(tf.ones_like(fake_output), fake_output)\n",
        "\n",
        "# Define the loss function for the discriminator\n",
        "def discriminator_loss(real_output, fake_output):\n",
        "    real_loss = tf.keras.losses.BinaryCrossentropy(from_logits=True)(tf.ones_like(real_output), real_output)\n",
        "    fake_loss = tf.keras.losses.BinaryCrossentropy(from_logits=True)(tf.zeros_like(fake_output), fake_output)\n",
        "    total_loss = real_loss + fake_loss\n",
        "    return total_loss\n"
      ],
      "metadata": {
        "id": "u3wosftx_sZz"
      },
      "execution_count": null,
      "outputs": []
    },
    {
      "cell_type": "code",
      "source": [],
      "metadata": {
        "id": "WG4qicpY_zNa"
      },
      "execution_count": null,
      "outputs": []
    },
    {
      "cell_type": "code",
      "source": [],
      "metadata": {
        "id": "st_hNTcJ4X9o"
      },
      "execution_count": null,
      "outputs": []
    },
    {
      "cell_type": "code",
      "source": [
        "def train_gan(generator, discriminator, noise_dim, train_dataset, epochs, batch_size, generator_optimizer, discriminator_optimizer):\n",
        "    for epoch in range(epochs):\n",
        "        for batch in train_dataset:\n",
        "            # Train discriminator\n",
        "            with tf.GradientTape() as disc_tape:\n",
        "                real_signals = batch\n",
        "                noise = tf.random.normal([batch_size, noise_dim])\n",
        "                generated_signals = generator(noise)\n",
        "                real_output = discriminator(real_signals)\n",
        "                generated_output = discriminator(generated_signals)\n",
        "                disc_loss = discriminator_loss(real_output, generated_output)\n",
        "\n",
        "            gradients_of_discriminator = disc_tape.gradient(disc_loss, discriminator.trainable_variables)\n",
        "            discriminator_optimizer.apply_gradients(zip(gradients_of_discriminator, discriminator.trainable_variables))\n",
        "\n",
        "            # Train generator\n",
        "            with tf.GradientTape() as gen_tape:\n",
        "                noise = tf.random.normal([batch_size, noise_dim])\n",
        "                generated_signals = generator(noise)\n",
        "                generated_output = discriminator(generated_signals)\n",
        "                gen_loss = generator_loss(generated_output)\n",
        "\n",
        "            gradients_of_generator = gen_tape.gradient(gen_loss, generator.trainable_variables)\n",
        "            generator_optimizer.apply_gradients(zip(gradients_of_generator, generator.trainable_variables))\n",
        "\n",
        "        print(\"Epoch:\", epoch + 1, \"Generator Loss:\", gen_loss.numpy(), \"Discriminator Loss:\", disc_loss.numpy())\n"
      ],
      "metadata": {
        "id": "NoOL-BqQb-vT"
      },
      "execution_count": null,
      "outputs": []
    },
    {
      "cell_type": "code",
      "source": [],
      "metadata": {
        "id": "U_PdWPKG4m62"
      },
      "execution_count": null,
      "outputs": []
    },
    {
      "cell_type": "code",
      "source": [
        "generator_optimizer = tf.keras.optimizers.RMSprop(learning_rate=0.00005)\n",
        "discriminator_optimizer = tf.keras.optimizers.RMSprop(learning_rate=0.00005)\n",
        "\n",
        "# Set the noise dimension\n",
        "noise_dim = 140\n",
        "seq_length = 140\n",
        "# Define the number of epochs and batch size\n",
        "EPOCHS = 10\n",
        "BATCH_SIZE = 150\n",
        "# Prepare the data\n",
        "dim = (noise_dim,)\n"
      ],
      "metadata": {
        "id": "DOiySFVy_9vq"
      },
      "execution_count": null,
      "outputs": []
    },
    {
      "cell_type": "code",
      "source": [
        "def prepare_data(dim , train_dataset , test_dataset):\n",
        "    # Batch and shuffle the data\n",
        "    train_size = train_dataset.shape[0]\n",
        "    test_size  = test_dataset.shape[0]\n",
        "    train_dataset = tf.data.Dataset.from_tensor_slices(train_dataset).shuffle(train_size).batch(BATCH_SIZE)\n",
        "    test_dataset  = tf.data.Dataset.from_tensor_slices(test_dataset).shuffle(test_size).batch(1)\n",
        "\n",
        "    seed = tf.random.uniform(dim, minval=-1, maxval=1, dtype=tf.float32)\n",
        "\n",
        "    # Reshape signals to match the discriminator input shape\n",
        "    return seed ,train_dataset , test_dataset\n"
      ],
      "metadata": {
        "id": "rcN853l8C5SH"
      },
      "execution_count": null,
      "outputs": []
    },
    {
      "cell_type": "code",
      "source": [
        "seed , train_dataset , test_dataset = prepare_data(dim,normal_train_data_df , normal_test_data_df)"
      ],
      "metadata": {
        "id": "2kGsplNnC7I_"
      },
      "execution_count": null,
      "outputs": []
    },
    {
      "cell_type": "markdown",
      "source": [],
      "metadata": {
        "id": "7v9mo5bA_gw1"
      }
    },
    {
      "cell_type": "code",
      "source": [
        "train_dataset"
      ],
      "metadata": {
        "colab": {
          "base_uri": "https://localhost:8080/"
        },
        "id": "7gPoDE40V4-q",
        "outputId": "b84220d9-c712-4e67-9324-f9202866697f"
      },
      "execution_count": null,
      "outputs": [
        {
          "output_type": "execute_result",
          "data": {
            "text/plain": [
              "<_BatchDataset element_spec=TensorSpec(shape=(None, 140), dtype=tf.float64, name=None)>"
            ]
          },
          "metadata": {},
          "execution_count": 24
        }
      ]
    },
    {
      "cell_type": "code",
      "source": [
        "train_gan(generator, discriminator, noise_dim, train_dataset, EPOCHS, BATCH_SIZE, generator_optimizer, discriminator_optimizer)\n"
      ],
      "metadata": {
        "colab": {
          "base_uri": "https://localhost:8080/"
        },
        "id": "F8NfKdwoACiQ",
        "outputId": "dbe5ca25-dd9d-4f7a-e443-3edc361c4b9b"
      },
      "execution_count": null,
      "outputs": [
        {
          "output_type": "stream",
          "name": "stderr",
          "text": [
            "/usr/local/lib/python3.10/dist-packages/keras/backend.py:5703: UserWarning: \"`binary_crossentropy` received `from_logits=True`, but the `output` argument was produced by a Sigmoid activation and thus does not represent logits. Was this intended?\n",
            "  output, from_logits = _get_logits(\n",
            "WARNING:tensorflow:5 out of the last 5 calls to <function _BaseOptimizer._update_step_xla at 0x7effb0490b80> triggered tf.function retracing. Tracing is expensive and the excessive number of tracings could be due to (1) creating @tf.function repeatedly in a loop, (2) passing tensors with different shapes, (3) passing Python objects instead of tensors. For (1), please define your @tf.function outside of the loop. For (2), @tf.function has reduce_retracing=True option that can avoid unnecessary retracing. For (3), please refer to https://www.tensorflow.org/guide/function#controlling_retracing and https://www.tensorflow.org/api_docs/python/tf/function for  more details.\n",
            "WARNING:tensorflow:6 out of the last 6 calls to <function _BaseOptimizer._update_step_xla at 0x7effb0490b80> triggered tf.function retracing. Tracing is expensive and the excessive number of tracings could be due to (1) creating @tf.function repeatedly in a loop, (2) passing tensors with different shapes, (3) passing Python objects instead of tensors. For (1), please define your @tf.function outside of the loop. For (2), @tf.function has reduce_retracing=True option that can avoid unnecessary retracing. For (3), please refer to https://www.tensorflow.org/guide/function#controlling_retracing and https://www.tensorflow.org/api_docs/python/tf/function for  more details.\n"
          ]
        },
        {
          "output_type": "stream",
          "name": "stdout",
          "text": [
            "Epoch: 1 Generator Loss: 0.73409545 Discriminator Loss: 0.782107\n",
            "Epoch: 2 Generator Loss: 1.079029 Discriminator Loss: 0.44928715\n",
            "Epoch: 3 Generator Loss: 2.6064394 Discriminator Loss: 0.08917365\n",
            "Epoch: 4 Generator Loss: 4.240108 Discriminator Loss: 0.017449118\n",
            "Epoch: 5 Generator Loss: 5.395424 Discriminator Loss: 0.0051309643\n",
            "Epoch: 6 Generator Loss: 6.253116 Discriminator Loss: 0.0026383717\n",
            "Epoch: 7 Generator Loss: 6.981924 Discriminator Loss: 0.0010682266\n",
            "Epoch: 8 Generator Loss: 7.5368166 Discriminator Loss: 0.00066927\n",
            "Epoch: 9 Generator Loss: 8.111675 Discriminator Loss: 0.000447564\n",
            "Epoch: 10 Generator Loss: 8.590015 Discriminator Loss: 0.0002797728\n"
          ]
        }
      ]
    },
    {
      "cell_type": "code",
      "source": [
        "generator.save('generator_healthy.h5')\n",
        "model = tf.keras.models.load_model('generator_healthy.h5')\n",
        "model.summary()"
      ],
      "metadata": {
        "colab": {
          "base_uri": "https://localhost:8080/"
        },
        "id": "8qyl4w4a9qgf",
        "outputId": "d9afe804-eab5-468f-98ae-731b1f78c577"
      },
      "execution_count": null,
      "outputs": [
        {
          "output_type": "stream",
          "name": "stderr",
          "text": [
            "WARNING:tensorflow:Compiled the loaded model, but the compiled metrics have yet to be built. `model.compile_metrics` will be empty until you train or evaluate the model.\n",
            "WARNING:tensorflow:No training configuration found in the save file, so the model was *not* compiled. Compile it manually.\n"
          ]
        },
        {
          "output_type": "stream",
          "name": "stdout",
          "text": [
            "Model: \"sequential\"\n",
            "_________________________________________________________________\n",
            " Layer (type)                Output Shape              Param #   \n",
            "=================================================================\n",
            " dense (Dense)               (None, 14000)             1974000   \n",
            "                                                                 \n",
            " reshape (Reshape)           (None, 140, 100)          0         \n",
            "                                                                 \n",
            " bidirectional (Bidirectiona  (None, 140, 128)         84480     \n",
            " l)                                                              \n",
            "                                                                 \n",
            " bidirectional_1 (Bidirectio  (None, 140, 128)         98816     \n",
            " nal)                                                            \n",
            "                                                                 \n",
            " conv1d_transpose (Conv1DTra  (None, 140, 1)           2049      \n",
            " nspose)                                                         \n",
            "                                                                 \n",
            " batch_normalization (BatchN  (None, 140, 1)           4         \n",
            " ormalization)                                                   \n",
            "                                                                 \n",
            " conv1d_transpose_1 (Conv1DT  (None, 140, 1)           17        \n",
            " ranspose)                                                       \n",
            "                                                                 \n",
            " batch_normalization_1 (Batc  (None, 140, 1)           4         \n",
            " hNormalization)                                                 \n",
            "                                                                 \n",
            " conv1d_transpose_2 (Conv1DT  (None, 140, 1)           17        \n",
            " ranspose)                                                       \n",
            "                                                                 \n",
            "=================================================================\n",
            "Total params: 2,159,387\n",
            "Trainable params: 2,159,383\n",
            "Non-trainable params: 4\n",
            "_________________________________________________________________\n"
          ]
        }
      ]
    },
    {
      "cell_type": "code",
      "source": [
        "# "
      ],
      "metadata": {
        "id": "ncdK2Twr1RXI"
      },
      "execution_count": null,
      "outputs": []
    },
    {
      "cell_type": "code",
      "source": [
        "noise = np.random.normal(0, 1, (10, noise_dim))\n",
        "normalized_noise = 2 * noise - 1\n",
        "synthetic_data = model.predict(normalized_noise)\n",
        "\n",
        "# Print the shape of the generated data\n",
        "print(synthetic_data.shape)"
      ],
      "metadata": {
        "colab": {
          "base_uri": "https://localhost:8080/"
        },
        "id": "pQBkAA4GEd7g",
        "outputId": "7ecda638-a725-4aa5-941a-15c23792141f"
      },
      "execution_count": null,
      "outputs": [
        {
          "output_type": "stream",
          "name": "stdout",
          "text": [
            "1/1 [==============================] - 2s 2s/step\n",
            "(10, 140, 1)\n"
          ]
        }
      ]
    },
    {
      "cell_type": "code",
      "source": [],
      "metadata": {
        "id": "A84ojInLQZxW"
      },
      "execution_count": null,
      "outputs": []
    },
    {
      "cell_type": "code",
      "source": [],
      "metadata": {
        "id": "xC-_qdB2Qtmc"
      },
      "execution_count": null,
      "outputs": []
    },
    {
      "cell_type": "code",
      "source": [
        "seed = tf.random.normal([1, 140, 1])\n",
        "normalized_seed = 2 * seed - 1\n",
        "\n",
        "ecg = model(normalized_seed, training=False)\n",
        "generated_normal_ecg = ecg.numpy().reshape(140, 1)\n"
      ],
      "metadata": {
        "id": "LKJkvJ9TR_VP"
      },
      "execution_count": null,
      "outputs": []
    },
    {
      "cell_type": "code",
      "source": [
        "plt.plot(generated_normal_ecg)\n"
      ],
      "metadata": {
        "colab": {
          "base_uri": "https://localhost:8080/",
          "height": 448
        },
        "id": "oZNZ7p1GWkwe",
        "outputId": "e242f7ae-2401-4c05-87f7-16af4d2d761e"
      },
      "execution_count": null,
      "outputs": [
        {
          "output_type": "execute_result",
          "data": {
            "text/plain": [
              "[<matplotlib.lines.Line2D at 0x7effb00d3f40>]"
            ]
          },
          "metadata": {},
          "execution_count": 29
        },
        {
          "output_type": "display_data",
          "data": {
            "text/plain": [
              "<Figure size 640x480 with 1 Axes>"
            ],
            "image/png": "[encoded data removed]"
          },
          "metadata": {}
        }
      ]
    },
    {
      "cell_type": "code",
      "source": [],
      "metadata": {
        "id": "kvu0Em6h81Un"
      },
      "execution_count": null,
      "outputs": []
    },
    {
      "cell_type": "markdown",
      "source": [
        "# **Testing**"
      ],
      "metadata": {
        "id": "Wc2iySPyYVZp"
      }
    },
    {
      "cell_type": "code",
      "source": [
        "def rmse(targets, predictions):\n",
        "    targets = targets.numpy()\n",
        "    predictions = predictions.numpy()\n",
        "    return np.sqrt(np.mean((targets-predictions)**2))\n",
        "\n",
        "\n",
        "def prd(targets, predictions):\n",
        "    targets = targets.numpy()\n",
        "    predictions = predictions.numpy()\n",
        "    s1 = np.sum((targets-predictions)**2)\n",
        "    s2 = np.sum(targets**2)\n",
        "    return np.sqrt(s1 / s2 * 100)\n",
        "\n",
        "\n",
        "# def mmd(targets, predictions):\n",
        "#     mmd_stat = MMDStatistic(400, 400)\n",
        "#     sample_target = torch.from_numpy(targets.numpy().reshape((400,1)))\n",
        "#     sample_pred = torch.from_numpy(predictions.numpy().reshape((400,1)))\n",
        "    \n",
        "#     stat = mmd_stat(sample_target, sample_pred, [1.])\n",
        "#     return(stat.item())\n",
        "\n",
        "\n",
        "def testing(test_dataset, model, noise_dim):\n",
        "    # print(train_dataset.element_spec.shape)\n",
        "    # print(noise_dim)\n",
        "    noise = tf.random.normal(noise_dim , dtype=tf.double)\n",
        "    generated_ecgs = model(noise, training=False)\n",
        "    # print(generated_ecgs.shape)\n",
        "    mmd_sum, prd_sum, rmse_sum = [], [], []\n",
        "    for true_ecg, gen_ecg in zip(test_dataset, generated_ecgs):\n",
        "        prd_sum.append(prd(true_ecg[0], gen_ecg))\n",
        "        rmse_sum.append(rmse(true_ecg[0], gen_ecg))\n",
        "        # mmd_sum.append(mmd(true_ecg[0][0], gen_ecg[0]))\n",
        "\n",
        "    # print('mmd :', f'mean={np.mean(mmd_sum):.6f}', f'min={np.min(mmd_sum):.6f}', f'max={np.max(mmd_sum):.6f}')\n",
        "    print('prd :', f'mean={np.mean(prd_sum):.4f}', f'min={np.min(prd_sum):.4f}', f'max={np.max(prd_sum):.4f}')\n",
        "    print('rmse:', f'mean={np.mean(rmse_sum):.4f}', f'min={np.min(rmse_sum):.4f}', f'max={np.max(rmse_sum):.4f}')"
      ],
      "metadata": {
        "id": "4Q8JDyrXYY-R"
      },
      "execution_count": null,
      "outputs": []
    },
    {
      "cell_type": "code",
      "source": [
        "testing(test_dataset, model, [200,140])"
      ],
      "metadata": {
        "colab": {
          "base_uri": "https://localhost:8080/"
        },
        "id": "GpArcMHzYow3",
        "outputId": "853d514a-e0a4-41c6-c122-cb1cfd9416c9"
      },
      "execution_count": null,
      "outputs": [
        {
          "output_type": "stream",
          "name": "stdout",
          "text": [
            "prd : mean=127.7351 min=125.9296 max=129.5514\n",
            "rmse: mean=0.2234 min=0.2203 max=0.2266\n"
          ]
        }
      ]
    },
    {
      "cell_type": "markdown",
      "source": [
        "# **Abnormal Data**"
      ],
      "metadata": {
        "id": "Bv-ZQEZ1_jdf"
      }
    },
    {
      "cell_type": "code",
      "source": [
        "seed_abnormal , train_dataset_abnormal , test_dataset_abnormal = prepare_data(dim,abnormal_train_data_df , abnormal_test_data_df)"
      ],
      "metadata": {
        "id": "mbIjw4Uq_nML"
      },
      "execution_count": null,
      "outputs": []
    },
    {
      "cell_type": "code",
      "source": [
        "train_gan(generator, discriminator, noise_dim, train_dataset_abnormal, EPOCHS, BATCH_SIZE, generator_optimizer, discriminator_optimizer)\n"
      ],
      "metadata": {
        "colab": {
          "base_uri": "https://localhost:8080/"
        },
        "id": "Q5H7Rjw3AA82",
        "outputId": "27a82d7d-aa38-4391-f01c-1d169e2bb1ad"
      },
      "execution_count": null,
      "outputs": [
        {
          "output_type": "stream",
          "name": "stderr",
          "text": [
            "/usr/local/lib/python3.10/dist-packages/keras/backend.py:5703: UserWarning: \"`binary_crossentropy` received `from_logits=True`, but the `output` argument was produced by a Sigmoid activation and thus does not represent logits. Was this intended?\n",
            "  output, from_logits = _get_logits(\n"
          ]
        },
        {
          "output_type": "stream",
          "name": "stdout",
          "text": [
            "Epoch: 1 Generator Loss: 7.855767 Discriminator Loss: 0.000421235\n",
            "Epoch: 2 Generator Loss: 8.082632 Discriminator Loss: 0.0003429133\n",
            "Epoch: 3 Generator Loss: 8.143329 Discriminator Loss: 0.0003225946\n",
            "Epoch: 4 Generator Loss: 8.216791 Discriminator Loss: 0.000302543\n",
            "Epoch: 5 Generator Loss: 8.026636 Discriminator Loss: 0.00037334402\n",
            "Epoch: 6 Generator Loss: 8.532304 Discriminator Loss: 0.00021873268\n",
            "Epoch: 7 Generator Loss: 8.538481 Discriminator Loss: 0.00021671166\n",
            "Epoch: 8 Generator Loss: 8.4348 Discriminator Loss: 0.00026428918\n",
            "Epoch: 9 Generator Loss: 8.57411 Discriminator Loss: 0.0002118137\n",
            "Epoch: 10 Generator Loss: 8.854643 Discriminator Loss: 0.00015814291\n"
          ]
        }
      ]
    },
    {
      "cell_type": "code",
      "source": [
        "generator.save('generator_abnormal.h5')\n",
        "model_abnormal = tf.keras.models.load_model('generator_abnormal.h5')\n",
        "model_abnormal.summary()"
      ],
      "metadata": {
        "id": "K1VkCmYPBH4T",
        "colab": {
          "base_uri": "https://localhost:8080/"
        },
        "outputId": "ea27b01a-06ca-4b49-fa2c-b10f2f7f8ee4"
      },
      "execution_count": null,
      "outputs": [
        {
          "output_type": "stream",
          "name": "stderr",
          "text": [
            "WARNING:tensorflow:Compiled the loaded model, but the compiled metrics have yet to be built. `model.compile_metrics` will be empty until you train or evaluate the model.\n",
            "WARNING:tensorflow:No training configuration found in the save file, so the model was *not* compiled. Compile it manually.\n"
          ]
        },
        {
          "output_type": "stream",
          "name": "stdout",
          "text": [
            "Model: \"sequential\"\n",
            "_________________________________________________________________\n",
            " Layer (type)                Output Shape              Param #   \n",
            "=================================================================\n",
            " dense (Dense)               (None, 14000)             1974000   \n",
            "                                                                 \n",
            " reshape (Reshape)           (None, 140, 100)          0         \n",
            "                                                                 \n",
            " bidirectional (Bidirectiona  (None, 140, 128)         84480     \n",
            " l)                                                              \n",
            "                                                                 \n",
            " bidirectional_1 (Bidirectio  (None, 140, 128)         98816     \n",
            " nal)                                                            \n",
            "                                                                 \n",
            " conv1d_transpose (Conv1DTra  (None, 140, 1)           2049      \n",
            " nspose)                                                         \n",
            "                                                                 \n",
            " batch_normalization (BatchN  (None, 140, 1)           4         \n",
            " ormalization)                                                   \n",
            "                                                                 \n",
            " conv1d_transpose_1 (Conv1DT  (None, 140, 1)           17        \n",
            " ranspose)                                                       \n",
            "                                                                 \n",
            " batch_normalization_1 (Batc  (None, 140, 1)           4         \n",
            " hNormalization)                                                 \n",
            "                                                                 \n",
            " conv1d_transpose_2 (Conv1DT  (None, 140, 1)           17        \n",
            " ranspose)                                                       \n",
            "                                                                 \n",
            "=================================================================\n",
            "Total params: 2,159,387\n",
            "Trainable params: 2,159,383\n",
            "Non-trainable params: 4\n",
            "_________________________________________________________________\n"
          ]
        }
      ]
    },
    {
      "cell_type": "code",
      "source": [
        "seed = tf.random.normal([1, 140, 1])\n",
        "normalized_seed = 2 * seed - 1\n",
        "\n",
        "ecg = model_abnormal(normalized_seed, training=False)\n",
        "generated_ecg_abnormal = ecg.numpy().reshape(140, 1)\n",
        "plt.plot(generated_ecg_abnormal)\n"
      ],
      "metadata": {
        "colab": {
          "base_uri": "https://localhost:8080/",
          "height": 448
        },
        "id": "23QdAa5mBVjY",
        "outputId": "c257c252-c60e-421f-c712-d4648f809e9d"
      },
      "execution_count": null,
      "outputs": [
        {
          "output_type": "execute_result",
          "data": {
            "text/plain": [
              "[<matplotlib.lines.Line2D at 0x7eff5c520880>]"
            ]
          },
          "metadata": {},
          "execution_count": 35
        },
        {
          "output_type": "display_data",
          "data": {
            "text/plain": [
              "<Figure size 640x480 with 1 Axes>"
            ],
            "image/png": "[encoded data removed]"
          },
          "metadata": {}
        }
      ]
    },
    {
      "cell_type": "code",
      "source": [
        "import tensorflow as tf\n",
        "import pandas as pd\n",
        "import numpy as np\n",
        "\n",
        "model_abnormal = tf.keras.models.load_model('generator_abnormal100.h5')\n",
        "model_normal = tf.keras.models.load_model('Generator.h5')\n",
        "\n",
        "def generate_ecgs(n, model):\n",
        "    generated_ecgs = []\n",
        "    for i in range(n):\n",
        "        seed = tf.random.normal([1, 140, 1])\n",
        "        normalized_seed = 2 * seed - 1\n",
        "        ecg = model(normalized_seed, training=False)\n",
        "        generated_ecg = ecg.numpy().reshape(140, 1)\n",
        "        generated_ecgs.append(generated_ecg)\n",
        "    generated_ecgs = np.array(generated_ecgs).reshape(n, 140)\n",
        "    df = pd.DataFrame(generated_ecgs)   \n",
        "    return df\n"
      ],
      "metadata": {
        "colab": {
          "base_uri": "https://localhost:8080/"
        },
        "id": "Wxkv11UYI6R6",
        "outputId": "ac33de75-cb0c-4343-fbf8-de418734669f"
      },
      "execution_count": null,
      "outputs": [
        {
          "output_type": "stream",
          "name": "stderr",
          "text": [
            "WARNING:tensorflow:No training configuration found in the save file, so the model was *not* compiled. Compile it manually.\n",
            "WARNING:tensorflow:No training configuration found in the save file, so the model was *not* compiled. Compile it manually.\n"
          ]
        }
      ]
    },
    {
      "cell_type": "code",
      "source": [
        "normal_generated_df = generate_ecgs(normal_train_data_df.shape[0],model_normal)\n",
        "abnormal_generated_df = generate_ecgs(abnormal_train_data_df.shape[0],model_abnormal)"
      ],
      "metadata": {
        "id": "onn9kV38KQyi"
      },
      "execution_count": null,
      "outputs": []
    },
    {
      "cell_type": "code",
      "source": [
        "abnormal_generated_df = 100*abnormal_generated_df"
      ],
      "metadata": {
        "id": "pqRD6eCBKX8-"
      },
      "execution_count": null,
      "outputs": []
    },
    {
      "cell_type": "code",
      "source": [
        "plt.plot(abnormal_generated_df.iloc[0])"
      ],
      "metadata": {
        "id": "OJhwEuBzqeB8",
        "outputId": "676e2008-0c41-45a3-a4b1-9877ec913426",
        "colab": {
          "base_uri": "https://localhost:8080/",
          "height": 448
        }
      },
      "execution_count": null,
      "outputs": [
        {
          "output_type": "execute_result",
          "data": {
            "text/plain": [
              "[<matplotlib.lines.Line2D at 0x7fd2c8e4e4d0>]"
            ]
          },
          "metadata": {},
          "execution_count": 20
        },
        {
          "output_type": "display_data",
          "data": {
            "text/plain": [
              "<Figure size 640x480 with 1 Axes>"
            ],
            "image/png": "[encoded data removed]"
          },
          "metadata": {}
        }
      ]
    },
    {
      "cell_type": "code",
      "source": [],
      "metadata": {
        "id": "tcF4I-9pqeFL"
      },
      "execution_count": null,
      "outputs": []
    },
    {
      "cell_type": "code",
      "source": [
        "testing(test_dataset_abnormal, model, [1000,140])"
      ],
      "metadata": {
        "id": "IKGYgwq0B-Gn",
        "colab": {
          "base_uri": "https://localhost:8080/"
        },
        "outputId": "5c9493fb-7c69-4dbb-90a2-1c22a8866c7a"
      },
      "execution_count": null,
      "outputs": [
        {
          "output_type": "stream",
          "name": "stdout",
          "text": [
            "prd : mean=111.6834 min=111.6834 max=111.6834\n",
            "rmse: mean=0.1954 min=0.1954 max=0.1954\n"
          ]
        }
      ]
    },
    {
      "cell_type": "code",
      "source": [
        "import matplotlib.pyplot as plt\n",
        "import numpy as np\n",
        "fig, axs = plt.subplots(nrows=2, ncols=2)\n",
        "\n",
        "# plot each signal in a different subplot\n",
        "axs[0, 0].plot(normal_ecg )\n",
        "axs[0, 0].set_title('normal_ecg ')\n",
        "\n",
        "axs[0, 1].plot(normal_generated_df.iloc[0])\n",
        "axs[0, 1].set_title('generated_normal_ecg')\n",
        "\n",
        "axs[1, 0].plot(abnormal_ecg)\n",
        "axs[1, 0].set_title('abnormal_ecg')\n",
        "\n",
        "axs[1, 1].plot(abnormal_generated_df.iloc[0])\n",
        "axs[1, 1].set_title('generated_ecg_abnormal')\n",
        "\n",
        "# add a title for the entire figure\n",
        "fig.suptitle('Four Signals')\n",
        "\n",
        "# display the figure\n",
        "plt.show()\n"
      ],
      "metadata": {
        "colab": {
          "base_uri": "https://localhost:8080/",
          "height": 478
        },
        "id": "JpETIApQ3gpO",
        "outputId": "9d8c44ae-6d41-46b7-f0f4-22c439618921"
      },
      "execution_count": null,
      "outputs": [
        {
          "output_type": "display_data",
          "data": {
            "text/plain": [
              "<Figure size 640x480 with 4 Axes>"
            ],
            "image/png": "[encoded data removed]"
          },
          "metadata": {}
        }
      ]
    },
    {
      "cell_type": "markdown",
      "source": [
        "# **AutoEncoder**"
      ],
      "metadata": {
        "id": "y7RgqWILd_V3"
      }
    },
    {
      "cell_type": "code",
      "source": [
        "from tensorflow.keras.models import Model\n",
        "class ae16(Model):\n",
        "  def __init__(self):\n",
        "    super(ae16, self).__init__()\n",
        "    self.encoder = tf.keras.Sequential([\n",
        "                                        layers.Dense(64, activation='relu'),\n",
        "                                        layers.Dense(32, activation='relu'),\n",
        "                                        layers.Dense(16, activation='relu'),\n",
        "    ])\n",
        "    self.decoder = tf.keras.Sequential([\n",
        "                                        layers.Dense(32, activation='relu'),\n",
        "                                        layers.Dense(64, activation='relu'),\n",
        "                                        layers.Dense(140, activation='sigmoid')\n",
        "    ])\n",
        "\n",
        "  def call(self, x):\n",
        "    encoded = self.encoder(x)\n",
        "    decoded = self.decoder(encoded)\n",
        "    return decoded"
      ],
      "metadata": {
        "id": "2hiRNTaBgDrE"
      },
      "execution_count": null,
      "outputs": []
    },
    {
      "cell_type": "code",
      "source": [
        "params16 = {'type_loss': 'mae', 'optimizer':'adam', 'epochs': 20, 'batch_size': 512}\n"
      ],
      "metadata": {
        "id": "xHtzfE5leCNs"
      },
      "execution_count": null,
      "outputs": []
    },
    {
      "cell_type": "code",
      "source": [
        "#Let's compile and train the model!!\n",
        "\n",
        "autoencoder16 = ae16()\n",
        "autoencoder16.compile(optimizer = params16['optimizer'], \n",
        "                      loss= params16['type_loss'])\n",
        "history16 = autoencoder16.fit(normal_train_data_df, \n",
        "                normal_train_data_df, \n",
        "                epochs = params16['epochs'], \n",
        "                batch_size=params16['batch_size'], \n",
        "                validation_data=(normal_test_data, normal_test_data))"
      ],
      "metadata": {
        "colab": {
          "base_uri": "https://localhost:8080/"
        },
        "id": "Ke32mx_XeCYk",
        "outputId": "187cc851-6d3a-4199-e74b-2bc621d6030c"
      },
      "execution_count": null,
      "outputs": [
        {
          "output_type": "stream",
          "name": "stdout",
          "text": [
            "Epoch 1/20\n",
            "5/5 [==============================] - 3s 51ms/step - loss: 0.3962 - val_loss: 0.3908\n",
            "Epoch 2/20\n",
            "5/5 [==============================] - 0s 13ms/step - loss: 0.3856 - val_loss: 0.3735\n",
            "Epoch 3/20\n",
            "5/5 [==============================] - 0s 11ms/step - loss: 0.3621 - val_loss: 0.3368\n",
            "Epoch 4/20\n",
            "5/5 [==============================] - 0s 10ms/step - loss: 0.3149 - val_loss: 0.2705\n",
            "Epoch 5/20\n",
            "5/5 [==============================] - 0s 10ms/step - loss: 0.2397 - val_loss: 0.1891\n",
            "Epoch 6/20\n",
            "5/5 [==============================] - 0s 10ms/step - loss: 0.1683 - val_loss: 0.1448\n",
            "Epoch 7/20\n",
            "5/5 [==============================] - 0s 10ms/step - loss: 0.1381 - val_loss: 0.1304\n",
            "Epoch 8/20\n",
            "5/5 [==============================] - 0s 11ms/step - loss: 0.1257 - val_loss: 0.1191\n",
            "Epoch 9/20\n",
            "5/5 [==============================] - 0s 10ms/step - loss: 0.1115 - val_loss: 0.1002\n",
            "Epoch 10/20\n",
            "5/5 [==============================] - 0s 10ms/step - loss: 0.0942 - val_loss: 0.0922\n",
            "Epoch 11/20\n",
            "5/5 [==============================] - 0s 10ms/step - loss: 0.0884 - val_loss: 0.0859\n",
            "Epoch 12/20\n",
            "5/5 [==============================] - 0s 15ms/step - loss: 0.0803 - val_loss: 0.0791\n",
            "Epoch 13/20\n",
            "5/5 [==============================] - 0s 10ms/step - loss: 0.0764 - val_loss: 0.0778\n",
            "Epoch 14/20\n",
            "5/5 [==============================] - 0s 11ms/step - loss: 0.0743 - val_loss: 0.0752\n",
            "Epoch 15/20\n",
            "5/5 [==============================] - 0s 10ms/step - loss: 0.0719 - val_loss: 0.0736\n",
            "Epoch 16/20\n",
            "5/5 [==============================] - 0s 10ms/step - loss: 0.0706 - val_loss: 0.0729\n",
            "Epoch 17/20\n",
            "5/5 [==============================] - 0s 10ms/step - loss: 0.0701 - val_loss: 0.0723\n",
            "Epoch 18/20\n",
            "5/5 [==============================] - 0s 10ms/step - loss: 0.0693 - val_loss: 0.0717\n",
            "Epoch 19/20\n",
            "5/5 [==============================] - 0s 15ms/step - loss: 0.0689 - val_loss: 0.0714\n",
            "Epoch 20/20\n",
            "5/5 [==============================] - 0s 10ms/step - loss: 0.0686 - val_loss: 0.0711\n"
          ]
        }
      ]
    },
    {
      "cell_type": "code",
      "source": [
        "normal_train_data_df.shape"
      ],
      "metadata": {
        "colab": {
          "base_uri": "https://localhost:8080/"
        },
        "id": "4AJDTpIagRr4",
        "outputId": "bd587697-add3-458e-eb02-674c377d452f"
      },
      "execution_count": null,
      "outputs": [
        {
          "output_type": "execute_result",
          "data": {
            "text/plain": [
              "(2323, 140)"
            ]
          },
          "metadata": {},
          "execution_count": 101
        }
      ]
    },
    {
      "cell_type": "code",
      "source": [
        "# abnormal_train_data_df\n",
        "# normal_train_data_df\n",
        "autoencoder16 = ae16()\n",
        "autoencoder16.compile(optimizer = params16['optimizer'], \n",
        "                      loss= params16['type_loss'])\n",
        "\n",
        "history16 = autoencoder16.fit(normal_train_data_df, \n",
        "                normal_train_data_df, \n",
        "                epochs = params16['epochs'], \n",
        "                batch_size=params16['batch_size'], \n",
        "                validation_data=(normal_test_data, normal_test_data))"
      ],
      "metadata": {
        "colab": {
          "base_uri": "https://localhost:8080/"
        },
        "id": "s9DnyMktgR7S",
        "outputId": "0e40f85c-18e7-4e4c-94c1-02d6d9385642"
      },
      "execution_count": null,
      "outputs": [
        {
          "output_type": "stream",
          "name": "stdout",
          "text": [
            "Epoch 1/20\n",
            "5/5 [==============================] - 2s 43ms/step - loss: 0.3961 - val_loss: 0.3917\n",
            "Epoch 2/20\n",
            "5/5 [==============================] - 0s 14ms/step - loss: 0.3876 - val_loss: 0.3787\n",
            "Epoch 3/20\n",
            "5/5 [==============================] - 0s 12ms/step - loss: 0.3703 - val_loss: 0.3523\n",
            "Epoch 4/20\n",
            "5/5 [==============================] - 0s 11ms/step - loss: 0.3359 - val_loss: 0.3024\n",
            "Epoch 5/20\n",
            "5/5 [==============================] - 0s 15ms/step - loss: 0.2750 - val_loss: 0.2250\n",
            "Epoch 6/20\n",
            "5/5 [==============================] - 0s 11ms/step - loss: 0.1953 - val_loss: 0.1569\n",
            "Epoch 7/20\n",
            "5/5 [==============================] - 0s 15ms/step - loss: 0.1440 - val_loss: 0.1298\n",
            "Epoch 8/20\n",
            "5/5 [==============================] - 0s 11ms/step - loss: 0.1237 - val_loss: 0.1182\n",
            "Epoch 9/20\n",
            "5/5 [==============================] - 0s 13ms/step - loss: 0.1147 - val_loss: 0.1109\n",
            "Epoch 10/20\n",
            "5/5 [==============================] - 0s 10ms/step - loss: 0.1045 - val_loss: 0.0964\n",
            "Epoch 11/20\n",
            "5/5 [==============================] - 0s 12ms/step - loss: 0.0902 - val_loss: 0.0876\n",
            "Epoch 12/20\n",
            "5/5 [==============================] - 0s 10ms/step - loss: 0.0846 - val_loss: 0.0849\n",
            "Epoch 13/20\n",
            "5/5 [==============================] - 0s 11ms/step - loss: 0.0797 - val_loss: 0.0779\n",
            "Epoch 14/20\n",
            "5/5 [==============================] - 0s 10ms/step - loss: 0.0747 - val_loss: 0.0769\n",
            "Epoch 15/20\n",
            "5/5 [==============================] - 0s 10ms/step - loss: 0.0740 - val_loss: 0.0754\n",
            "Epoch 16/20\n",
            "5/5 [==============================] - 0s 10ms/step - loss: 0.0720 - val_loss: 0.0738\n",
            "Epoch 17/20\n",
            "5/5 [==============================] - 0s 10ms/step - loss: 0.0708 - val_loss: 0.0730\n",
            "Epoch 18/20\n",
            "5/5 [==============================] - 0s 10ms/step - loss: 0.0701 - val_loss: 0.0723\n",
            "Epoch 19/20\n",
            "5/5 [==============================] - 0s 10ms/step - loss: 0.0694 - val_loss: 0.0719\n",
            "Epoch 20/20\n",
            "5/5 [==============================] - 0s 10ms/step - loss: 0.0690 - val_loss: 0.0715\n"
          ]
        }
      ]
    },
    {
      "cell_type": "code",
      "source": [
        "# predict lal generated normal -> output auto encoder base generator \n",
        "reconstructed_data = autoencoder16.predict(normal_test_data)\n"
      ],
      "metadata": {
        "colab": {
          "base_uri": "https://localhost:8080/"
        },
        "id": "L5N9fz-tZbS7",
        "outputId": "517be9db-0a21-4ef4-d598-99d3f30badf6"
      },
      "execution_count": null,
      "outputs": [
        {
          "output_type": "stream",
          "name": "stdout",
          "text": [
            "19/19 [==============================] - 0s 2ms/step\n"
          ]
        }
      ]
    },
    {
      "cell_type": "code",
      "source": [
        "from sklearn.metrics import mean_absolute_error\n",
        "\n",
        "mae = mean_absolute_error(normal_test_data, reconstructed_data)\n",
        "print(\"Mean Squared Error (mae):\", mae)"
      ],
      "metadata": {
        "colab": {
          "base_uri": "https://localhost:8080/"
        },
        "id": "MJudD-YNeI9M",
        "outputId": "fb7ab6bc-5df0-4099-dd87-cb8f97a5838f"
      },
      "execution_count": null,
      "outputs": [
        {
          "output_type": "stream",
          "name": "stdout",
          "text": [
            "Mean Squared Error (mae): 0.0715265567774174\n"
          ]
        }
      ]
    },
    {
      "cell_type": "code",
      "source": [
        "reconstructed_gan_data = autoencoder16.predict(normal_generated_df)\n"
      ],
      "metadata": {
        "colab": {
          "base_uri": "https://localhost:8080/"
        },
        "id": "eCzMERIcZrE-",
        "outputId": "c78ad9bd-1676-4f8e-f99f-658b7731d6d2"
      },
      "execution_count": null,
      "outputs": [
        {
          "output_type": "stream",
          "name": "stdout",
          "text": [
            "73/73 [==============================] - 0s 2ms/step\n"
          ]
        }
      ]
    },
    {
      "cell_type": "code",
      "source": [
        "from sklearn.metrics import mean_absolute_error\n",
        "mae = mean_absolute_error(normal_test_data, reconstructed_gan_data[:596])\n",
        "print(\"Mean Squared Error (MAE):\", mae)"
      ],
      "metadata": {
        "colab": {
          "base_uri": "https://localhost:8080/"
        },
        "id": "bre4kUBSet8Z",
        "outputId": "57faea39-64a1-4e9e-df66-49a8e561c45c"
      },
      "execution_count": null,
      "outputs": [
        {
          "output_type": "stream",
          "name": "stdout",
          "text": [
            "Mean Squared Error (MAE): 0.1034915417344578\n"
          ]
        }
      ]
    },
    {
      "cell_type": "code",
      "source": [],
      "metadata": {
        "id": "ULipmK90et_o"
      },
      "execution_count": null,
      "outputs": []
    },
    {
      "cell_type": "markdown",
      "source": [
        "# **Evaluation Deep Learning**"
      ],
      "metadata": {
        "id": "GgObT3lwgXXD"
      }
    },
    {
      "cell_type": "code",
      "source": [
        "df.head()"
      ],
      "metadata": {
        "colab": {
          "base_uri": "https://localhost:8080/",
          "height": 299
        },
        "id": "eG6l_ksggeO6",
        "outputId": "71300adb-8161-479e-8b7f-a448251ae8c6"
      },
      "execution_count": null,
      "outputs": [
        {
          "output_type": "execute_result",
          "data": {
            "text/plain": [
              "        0         1         2         3         4         5         6    \\\n",
              "0 -0.112522 -2.827204 -3.773897 -4.349751 -4.376041 -3.474986 -2.181408   \n",
              "1 -1.100878 -3.996840 -4.285843 -4.506579 -4.022377 -3.234368 -1.566126   \n",
              "2 -0.567088 -2.593450 -3.874230 -4.584095 -4.187449 -3.151462 -1.742940   \n",
              "3  0.490473 -1.914407 -3.616364 -4.318823 -4.268016 -3.881110 -2.993280   \n",
              "4  0.800232 -0.874252 -2.384761 -3.973292 -4.338224 -3.802422 -2.534510   \n",
              "\n",
              "        7         8         9    ...       131       132       133       134  \\\n",
              "0 -1.818286 -1.250522 -0.477492  ...  0.792168  0.933541  0.796958  0.578621   \n",
              "1 -0.992258 -0.754680  0.042321  ...  0.538356  0.656881  0.787490  0.724046   \n",
              "2 -1.490659 -1.183580 -0.394229  ...  0.886073  0.531452  0.311377 -0.021919   \n",
              "3 -1.671131 -1.333884 -0.965629  ...  0.350816  0.499111  0.600345  0.842069   \n",
              "4 -1.783423 -1.594450 -0.753199  ...  1.148884  0.958434  1.059025  1.371682   \n",
              "\n",
              "        135       136       137       138       139  140  \n",
              "0  0.257740  0.228077  0.123431  0.925286  0.193137  1.0  \n",
              "1  0.555784  0.476333  0.773820  1.119621 -1.436250  1.0  \n",
              "2 -0.713683 -0.532197  0.321097  0.904227 -0.421797  1.0  \n",
              "3  0.952074  0.990133  1.086798  1.403011 -0.383564  1.0  \n",
              "4  1.277392  0.960304  0.971020  1.614392  1.421456  1.0  \n",
              "\n",
              "[5 rows x 141 columns]"
            ],
            "text/html": [
              "\n",
              "  <div id=\"df-0956c2b1-ff64-47d3-8f15-37004fcfe8eb\">\n",
              "    <div class=\"colab-df-container\">\n",
              "      <div>\n",
              "<style scoped>\n",
              "    .dataframe tbody tr th:only-of-type {\n",
              "        vertical-align: middle;\n",
              "    }\n",
              "\n",
              "    .dataframe tbody tr th {\n",
              "        vertical-align: top;\n",
              "    }\n",
              "\n",
              "    .dataframe thead th {\n",
              "        text-align: right;\n",
              "    }\n",
              "</style>\n",
              "<table border=\"1\" class=\"dataframe\">\n",
              "  <thead>\n",
              "    <tr style=\"text-align: right;\">\n",
              "      <th></th>\n",
              "      <th>0</th>\n",
              "      <th>1</th>\n",
              "      <th>2</th>\n",
              "      <th>3</th>\n",
              "      <th>4</th>\n",
              "      <th>5</th>\n",
              "      <th>6</th>\n",
              "      <th>7</th>\n",
              "      <th>8</th>\n",
              "      <th>9</th>\n",
              "      <th>...</th>\n",
              "      <th>131</th>\n",
              "      <th>132</th>\n",
              "      <th>133</th>\n",
              "      <th>134</th>\n",
              "      <th>135</th>\n",
              "      <th>136</th>\n",
              "      <th>137</th>\n",
              "      <th>138</th>\n",
              "      <th>139</th>\n",
              "      <th>140</th>\n",
              "    </tr>\n",
              "  </thead>\n",
              "  <tbody>\n",
              "    <tr>\n",
              "      <th>0</th>\n",
              "      <td>-0.112522</td>\n",
              "      <td>-2.827204</td>\n",
              "      <td>-3.773897</td>\n",
              "      <td>-4.349751</td>\n",
              "      <td>-4.376041</td>\n",
              "      <td>-3.474986</td>\n",
              "      <td>-2.181408</td>\n",
              "      <td>-1.818286</td>\n",
              "      <td>-1.250522</td>\n",
              "      <td>-0.477492</td>\n",
              "      <td>...</td>\n",
              "      <td>0.792168</td>\n",
              "      <td>0.933541</td>\n",
              "      <td>0.796958</td>\n",
              "      <td>0.578621</td>\n",
              "      <td>0.257740</td>\n",
              "      <td>0.228077</td>\n",
              "      <td>0.123431</td>\n",
              "      <td>0.925286</td>\n",
              "      <td>0.193137</td>\n",
              "      <td>1.0</td>\n",
              "    </tr>\n",
              "    <tr>\n",
              "      <th>1</th>\n",
              "      <td>-1.100878</td>\n",
              "      <td>-3.996840</td>\n",
              "      <td>-4.285843</td>\n",
              "      <td>-4.506579</td>\n",
              "      <td>-4.022377</td>\n",
              "      <td>-3.234368</td>\n",
              "      <td>-1.566126</td>\n",
              "      <td>-0.992258</td>\n",
              "      <td>-0.754680</td>\n",
              "      <td>0.042321</td>\n",
              "      <td>...</td>\n",
              "      <td>0.538356</td>\n",
              "      <td>0.656881</td>\n",
              "      <td>0.787490</td>\n",
              "      <td>0.724046</td>\n",
              "      <td>0.555784</td>\n",
              "      <td>0.476333</td>\n",
              "      <td>0.773820</td>\n",
              "      <td>1.119621</td>\n",
              "      <td>-1.436250</td>\n",
              "      <td>1.0</td>\n",
              "    </tr>\n",
              "    <tr>\n",
              "      <th>2</th>\n",
              "      <td>-0.567088</td>\n",
              "      <td>-2.593450</td>\n",
              "      <td>-3.874230</td>\n",
              "      <td>-4.584095</td>\n",
              "      <td>-4.187449</td>\n",
              "      <td>-3.151462</td>\n",
              "      <td>-1.742940</td>\n",
              "      <td>-1.490659</td>\n",
              "      <td>-1.183580</td>\n",
              "      <td>-0.394229</td>\n",
              "      <td>...</td>\n",
              "      <td>0.886073</td>\n",
              "      <td>0.531452</td>\n",
              "      <td>0.311377</td>\n",
              "      <td>-0.021919</td>\n",
              "      <td>-0.713683</td>\n",
              "      <td>-0.532197</td>\n",
              "      <td>0.321097</td>\n",
              "      <td>0.904227</td>\n",
              "      <td>-0.421797</td>\n",
              "      <td>1.0</td>\n",
              "    </tr>\n",
              "    <tr>\n",
              "      <th>3</th>\n",
              "      <td>0.490473</td>\n",
              "      <td>-1.914407</td>\n",
              "      <td>-3.616364</td>\n",
              "      <td>-4.318823</td>\n",
              "      <td>-4.268016</td>\n",
              "      <td>-3.881110</td>\n",
              "      <td>-2.993280</td>\n",
              "      <td>-1.671131</td>\n",
              "      <td>-1.333884</td>\n",
              "      <td>-0.965629</td>\n",
              "      <td>...</td>\n",
              "      <td>0.350816</td>\n",
              "      <td>0.499111</td>\n",
              "      <td>0.600345</td>\n",
              "      <td>0.842069</td>\n",
              "      <td>0.952074</td>\n",
              "      <td>0.990133</td>\n",
              "      <td>1.086798</td>\n",
              "      <td>1.403011</td>\n",
              "      <td>-0.383564</td>\n",
              "      <td>1.0</td>\n",
              "    </tr>\n",
              "    <tr>\n",
              "      <th>4</th>\n",
              "      <td>0.800232</td>\n",
              "      <td>-0.874252</td>\n",
              "      <td>-2.384761</td>\n",
              "      <td>-3.973292</td>\n",
              "      <td>-4.338224</td>\n",
              "      <td>-3.802422</td>\n",
              "      <td>-2.534510</td>\n",
              "      <td>-1.783423</td>\n",
              "      <td>-1.594450</td>\n",
              "      <td>-0.753199</td>\n",
              "      <td>...</td>\n",
              "      <td>1.148884</td>\n",
              "      <td>0.958434</td>\n",
              "      <td>1.059025</td>\n",
              "      <td>1.371682</td>\n",
              "      <td>1.277392</td>\n",
              "      <td>0.960304</td>\n",
              "      <td>0.971020</td>\n",
              "      <td>1.614392</td>\n",
              "      <td>1.421456</td>\n",
              "      <td>1.0</td>\n",
              "    </tr>\n",
              "  </tbody>\n",
              "</table>\n",
              "<p>5 rows × 141 columns</p>\n",
              "</div>\n",
              "      <button class=\"colab-df-convert\" onclick=\"convertToInteractive('df-0956c2b1-ff64-47d3-8f15-37004fcfe8eb')\"\n",
              "              title=\"Convert this dataframe to an interactive table.\"\n",
              "              style=\"display:none;\">\n",
              "        \n",
              "  <svg xmlns=\"http://www.w3.org/2000/svg\" height=\"24px\"viewBox=\"0 0 24 24\"\n",
              "       width=\"24px\">\n",
              "    <path d=\"M0 0h24v24H0V0z\" fill=\"none\"/>\n",
              "    <path d=\"M18.56 5.44l.94 2.06.94-2.06 2.06-.94-2.06-.94-.94-2.06-.94 2.06-2.06.94zm-11 1L8.5 8.5l.94-2.06 2.06-.94-2.06-.94L8.5 2.5l-.94 2.06-2.06.94zm10 10l.94 2.06.94-2.06 2.06-.94-2.06-.94-.94-2.06-.94 2.06-2.06.94z\"/><path d=\"M17.41 7.96l-1.37-1.37c-.4-.4-.92-.59-1.43-.59-.52 0-1.04.2-1.43.59L10.3 9.45l-7.72 7.72c-.78.78-.78 2.05 0 2.83L4 21.41c.39.39.9.59 1.41.59.51 0 1.02-.2 1.41-.59l7.78-7.78 2.81-2.81c.8-.78.8-2.07 0-2.86zM5.41 20L4 18.59l7.72-7.72 1.47 1.35L5.41 20z\"/>\n",
              "  </svg>\n",
              "      </button>\n",
              "      \n",
              "  <style>\n",
              "    .colab-df-container {\n",
              "      display:flex;\n",
              "      flex-wrap:wrap;\n",
              "      gap: 12px;\n",
              "    }\n",
              "\n",
              "    .colab-df-convert {\n",
              "      background-color: #E8F0FE;\n",
              "      border: none;\n",
              "      border-radius: 50%;\n",
              "      cursor: pointer;\n",
              "      display: none;\n",
              "      fill: #1967D2;\n",
              "      height: 32px;\n",
              "      padding: 0 0 0 0;\n",
              "      width: 32px;\n",
              "    }\n",
              "\n",
              "    .colab-df-convert:hover {\n",
              "      background-color: #E2EBFA;\n",
              "      box-shadow: 0px 1px 2px rgba(60, 64, 67, 0.3), 0px 1px 3px 1px rgba(60, 64, 67, 0.15);\n",
              "      fill: #174EA6;\n",
              "    }\n",
              "\n",
              "    [theme=dark] .colab-df-convert {\n",
              "      background-color: #3B4455;\n",
              "      fill: #D2E3FC;\n",
              "    }\n",
              "\n",
              "    [theme=dark] .colab-df-convert:hover {\n",
              "      background-color: #434B5C;\n",
              "      box-shadow: 0px 1px 3px 1px rgba(0, 0, 0, 0.15);\n",
              "      filter: drop-shadow(0px 1px 2px rgba(0, 0, 0, 0.3));\n",
              "      fill: #FFFFFF;\n",
              "    }\n",
              "  </style>\n",
              "\n",
              "      <script>\n",
              "        const buttonEl =\n",
              "          document.querySelector('#df-0956c2b1-ff64-47d3-8f15-37004fcfe8eb button.colab-df-convert');\n",
              "        buttonEl.style.display =\n",
              "          google.colab.kernel.accessAllowed ? 'block' : 'none';\n",
              "\n",
              "        async function convertToInteractive(key) {\n",
              "          const element = document.querySelector('#df-0956c2b1-ff64-47d3-8f15-37004fcfe8eb');\n",
              "          const dataTable =\n",
              "            await google.colab.kernel.invokeFunction('convertToInteractive',\n",
              "                                                     [key], {});\n",
              "          if (!dataTable) return;\n",
              "\n",
              "          const docLinkHtml = 'Like what you see? Visit the ' +\n",
              "            '<a target=\"_blank\" href=https://colab.research.google.com/notebooks/data_table.ipynb>data table notebook</a>'\n",
              "            + ' to learn more about interactive tables.';\n",
              "          element.innerHTML = '';\n",
              "          dataTable['output_type'] = 'display_data';\n",
              "          await google.colab.output.renderOutput(dataTable, element);\n",
              "          const docLink = document.createElement('div');\n",
              "          docLink.innerHTML = docLinkHtml;\n",
              "          element.appendChild(docLink);\n",
              "        }\n",
              "      </script>\n",
              "    </div>\n",
              "  </div>\n",
              "  "
            ]
          },
          "metadata": {},
          "execution_count": 32
        }
      ]
    },
    {
      "cell_type": "code",
      "source": [
        "X = df.iloc[:, :-1]\n",
        "y = df.iloc[:, -1]"
      ],
      "metadata": {
        "id": "9x82u8CogR-r"
      },
      "execution_count": null,
      "outputs": []
    },
    {
      "cell_type": "code",
      "source": [
        "from sklearn.preprocessing import MinMaxScaler\n",
        "scaler = MinMaxScaler(feature_range=(-1, 1))\n",
        "scaler.fit(X)"
      ],
      "metadata": {
        "colab": {
          "base_uri": "https://localhost:8080/",
          "height": 74
        },
        "id": "s7NVcBhLgSBB",
        "outputId": "69f57b45-2486-4bfa-f5e8-db0b2fc09635"
      },
      "execution_count": null,
      "outputs": [
        {
          "output_type": "execute_result",
          "data": {
            "text/plain": [
              "MinMaxScaler(feature_range=(-1, 1))"
            ],
            "text/html": [
              "<style>#sk-container-id-1 {color: black;background-color: white;}#sk-container-id-1 pre{padding: 0;}#sk-container-id-1 div.sk-toggleable {background-color: white;}#sk-container-id-1 label.sk-toggleable__label {cursor: pointer;display: block;width: 100%;margin-bottom: 0;padding: 0.3em;box-sizing: border-box;text-align: center;}#sk-container-id-1 label.sk-toggleable__label-arrow:before {content: \"▸\";float: left;margin-right: 0.25em;color: #696969;}#sk-container-id-1 label.sk-toggleable__label-arrow:hover:before {color: black;}#sk-container-id-1 div.sk-estimator:hover label.sk-toggleable__label-arrow:before {color: black;}#sk-container-id-1 div.sk-toggleable__content {max-height: 0;max-width: 0;overflow: hidden;text-align: left;background-color: #f0f8ff;}#sk-container-id-1 div.sk-toggleable__content pre {margin: 0.2em;color: black;border-radius: 0.25em;background-color: #f0f8ff;}#sk-container-id-1 input.sk-toggleable__control:checked~div.sk-toggleable__content {max-height: 200px;max-width: 100%;overflow: auto;}#sk-container-id-1 input.sk-toggleable__control:checked~label.sk-toggleable__label-arrow:before {content: \"▾\";}#sk-container-id-1 div.sk-estimator input.sk-toggleable__control:checked~label.sk-toggleable__label {background-color: #d4ebff;}#sk-container-id-1 div.sk-label input.sk-toggleable__control:checked~label.sk-toggleable__label {background-color: #d4ebff;}#sk-container-id-1 input.sk-hidden--visually {border: 0;clip: rect(1px 1px 1px 1px);clip: rect(1px, 1px, 1px, 1px);height: 1px;margin: -1px;overflow: hidden;padding: 0;position: absolute;width: 1px;}#sk-container-id-1 div.sk-estimator {font-family: monospace;background-color: #f0f8ff;border: 1px dotted black;border-radius: 0.25em;box-sizing: border-box;margin-bottom: 0.5em;}#sk-container-id-1 div.sk-estimator:hover {background-color: #d4ebff;}#sk-container-id-1 div.sk-parallel-item::after {content: \"\";width: 100%;border-bottom: 1px solid gray;flex-grow: 1;}#sk-container-id-1 div.sk-label:hover label.sk-toggleable__label {background-color: #d4ebff;}#sk-container-id-1 div.sk-serial::before {content: \"\";position: absolute;border-left: 1px solid gray;box-sizing: border-box;top: 0;bottom: 0;left: 50%;z-index: 0;}#sk-container-id-1 div.sk-serial {display: flex;flex-direction: column;align-items: center;background-color: white;padding-right: 0.2em;padding-left: 0.2em;position: relative;}#sk-container-id-1 div.sk-item {position: relative;z-index: 1;}#sk-container-id-1 div.sk-parallel {display: flex;align-items: stretch;justify-content: center;background-color: white;position: relative;}#sk-container-id-1 div.sk-item::before, #sk-container-id-1 div.sk-parallel-item::before {content: \"\";position: absolute;border-left: 1px solid gray;box-sizing: border-box;top: 0;bottom: 0;left: 50%;z-index: -1;}#sk-container-id-1 div.sk-parallel-item {display: flex;flex-direction: column;z-index: 1;position: relative;background-color: white;}#sk-container-id-1 div.sk-parallel-item:first-child::after {align-self: flex-end;width: 50%;}#sk-container-id-1 div.sk-parallel-item:last-child::after {align-self: flex-start;width: 50%;}#sk-container-id-1 div.sk-parallel-item:only-child::after {width: 0;}#sk-container-id-1 div.sk-dashed-wrapped {border: 1px dashed gray;margin: 0 0.4em 0.5em 0.4em;box-sizing: border-box;padding-bottom: 0.4em;background-color: white;}#sk-container-id-1 div.sk-label label {font-family: monospace;font-weight: bold;display: inline-block;line-height: 1.2em;}#sk-container-id-1 div.sk-label-container {text-align: center;}#sk-container-id-1 div.sk-container {/* jupyter's `normalize.less` sets `[hidden] { display: none; }` but bootstrap.min.css set `[hidden] { display: none !important; }` so we also need the `!important` here to be able to override the default hidden behavior on the sphinx rendered scikit-learn.org. See: https://github.com/scikit-learn/scikit-learn/issues/21755 */display: inline-block !important;position: relative;}#sk-container-id-1 div.sk-text-repr-fallback {display: none;}</style><div id=\"sk-container-id-1\" class=\"sk-top-container\"><div class=\"sk-text-repr-fallback\"><pre>MinMaxScaler(feature_range=(-1, 1))</pre><b>In a Jupyter environment, please rerun this cell to show the HTML representation or trust the notebook. <br />On GitHub, the HTML representation is unable to render, please try loading this page with nbviewer.org.</b></div><div class=\"sk-container\" hidden><div class=\"sk-item\"><div class=\"sk-estimator sk-toggleable\"><input class=\"sk-toggleable__control sk-hidden--visually\" id=\"sk-estimator-id-1\" type=\"checkbox\" checked><label for=\"sk-estimator-id-1\" class=\"sk-toggleable__label sk-toggleable__label-arrow\">MinMaxScaler</label><div class=\"sk-toggleable__content\"><pre>MinMaxScaler(feature_range=(-1, 1))</pre></div></div></div></div></div>"
            ]
          },
          "metadata": {},
          "execution_count": 34
        }
      ]
    },
    {
      "cell_type": "code",
      "source": [
        "# Transform your data using the scaler\n",
        "X_scaled = scaler.transform(X)\n",
        "# Create a new DataFrame with the scaled data and the label column\n",
        "df_scaled = pd.DataFrame(X_scaled, columns=X.columns)\n",
        "df_scaled[\"label\"] = y"
      ],
      "metadata": {
        "id": "FVJn_vIseCm6"
      },
      "execution_count": null,
      "outputs": []
    },
    {
      "cell_type": "code",
      "source": [
        "df_scaled.head()"
      ],
      "metadata": {
        "colab": {
          "base_uri": "https://localhost:8080/",
          "height": 299
        },
        "id": "R70GH3FGiZ2B",
        "outputId": "a7c653d1-ad62-4270-9bcd-9e139227d524"
      },
      "execution_count": null,
      "outputs": [
        {
          "output_type": "execute_result",
          "data": {
            "text/plain": [
              "          0         1         2         3         4         5         6  \\\n",
              "0  0.131502 -0.193350 -0.651340 -0.720918 -0.734226 -0.465710 -0.217909   \n",
              "1 -0.037506 -0.414661 -0.782725 -0.764104 -0.640200 -0.396413 -0.032888   \n",
              "2  0.053772 -0.149121 -0.677090 -0.785449 -0.684086 -0.372536 -0.086058   \n",
              "3  0.234614 -0.020636 -0.610911 -0.712402 -0.705506 -0.582672 -0.462045   \n",
              "4  0.287583  0.176175 -0.294834 -0.617254 -0.724172 -0.560010 -0.324089   \n",
              "\n",
              "          7         8         9  ...       131       132       133       134  \\\n",
              "0 -0.184699 -0.019707  0.213349  ...  0.382426  0.481632  0.431555  0.370996   \n",
              "1  0.085442  0.152608  0.385441  ...  0.311673  0.406982  0.429010  0.409771   \n",
              "2 -0.077553  0.003557  0.240915  ...  0.408603  0.373139  0.301073  0.210873   \n",
              "3 -0.136574 -0.048677  0.051744  ...  0.259395  0.364412  0.378722  0.441240   \n",
              "4 -0.173298 -0.139228  0.122072  ...  0.481864  0.488349  0.501975  0.582452   \n",
              "\n",
              "        135       136       137       138       139  label  \n",
              "0  0.272203  0.229051  0.238390  0.320707 -0.068444    1.0  \n",
              "1  0.342318  0.288778  0.381718  0.358417 -0.309936    1.0  \n",
              "2  0.043674  0.046138  0.281950  0.316621 -0.159583    1.0  \n",
              "3  0.435546  0.412392  0.450689  0.413407 -0.153917    1.0  \n",
              "4  0.512078  0.405216  0.425175  0.454425  0.113606    1.0  \n",
              "\n",
              "[5 rows x 141 columns]"
            ],
            "text/html": [
              "\n",
              "  <div id=\"df-80e65a7e-2465-4285-834a-82c9ab6578a9\">\n",
              "    <div class=\"colab-df-container\">\n",
              "      <div>\n",
              "<style scoped>\n",
              "    .dataframe tbody tr th:only-of-type {\n",
              "        vertical-align: middle;\n",
              "    }\n",
              "\n",
              "    .dataframe tbody tr th {\n",
              "        vertical-align: top;\n",
              "    }\n",
              "\n",
              "    .dataframe thead th {\n",
              "        text-align: right;\n",
              "    }\n",
              "</style>\n",
              "<table border=\"1\" class=\"dataframe\">\n",
              "  <thead>\n",
              "    <tr style=\"text-align: right;\">\n",
              "      <th></th>\n",
              "      <th>0</th>\n",
              "      <th>1</th>\n",
              "      <th>2</th>\n",
              "      <th>3</th>\n",
              "      <th>4</th>\n",
              "      <th>5</th>\n",
              "      <th>6</th>\n",
              "      <th>7</th>\n",
              "      <th>8</th>\n",
              "      <th>9</th>\n",
              "      <th>...</th>\n",
              "      <th>131</th>\n",
              "      <th>132</th>\n",
              "      <th>133</th>\n",
              "      <th>134</th>\n",
              "      <th>135</th>\n",
              "      <th>136</th>\n",
              "      <th>137</th>\n",
              "      <th>138</th>\n",
              "      <th>139</th>\n",
              "      <th>label</th>\n",
              "    </tr>\n",
              "  </thead>\n",
              "  <tbody>\n",
              "    <tr>\n",
              "      <th>0</th>\n",
              "      <td>0.131502</td>\n",
              "      <td>-0.193350</td>\n",
              "      <td>-0.651340</td>\n",
              "      <td>-0.720918</td>\n",
              "      <td>-0.734226</td>\n",
              "      <td>-0.465710</td>\n",
              "      <td>-0.217909</td>\n",
              "      <td>-0.184699</td>\n",
              "      <td>-0.019707</td>\n",
              "      <td>0.213349</td>\n",
              "      <td>...</td>\n",
              "      <td>0.382426</td>\n",
              "      <td>0.481632</td>\n",
              "      <td>0.431555</td>\n",
              "      <td>0.370996</td>\n",
              "      <td>0.272203</td>\n",
              "      <td>0.229051</td>\n",
              "      <td>0.238390</td>\n",
              "      <td>0.320707</td>\n",
              "      <td>-0.068444</td>\n",
              "      <td>1.0</td>\n",
              "    </tr>\n",
              "    <tr>\n",
              "      <th>1</th>\n",
              "      <td>-0.037506</td>\n",
              "      <td>-0.414661</td>\n",
              "      <td>-0.782725</td>\n",
              "      <td>-0.764104</td>\n",
              "      <td>-0.640200</td>\n",
              "      <td>-0.396413</td>\n",
              "      <td>-0.032888</td>\n",
              "      <td>0.085442</td>\n",
              "      <td>0.152608</td>\n",
              "      <td>0.385441</td>\n",
              "      <td>...</td>\n",
              "      <td>0.311673</td>\n",
              "      <td>0.406982</td>\n",
              "      <td>0.429010</td>\n",
              "      <td>0.409771</td>\n",
              "      <td>0.342318</td>\n",
              "      <td>0.288778</td>\n",
              "      <td>0.381718</td>\n",
              "      <td>0.358417</td>\n",
              "      <td>-0.309936</td>\n",
              "      <td>1.0</td>\n",
              "    </tr>\n",
              "    <tr>\n",
              "      <th>2</th>\n",
              "      <td>0.053772</td>\n",
              "      <td>-0.149121</td>\n",
              "      <td>-0.677090</td>\n",
              "      <td>-0.785449</td>\n",
              "      <td>-0.684086</td>\n",
              "      <td>-0.372536</td>\n",
              "      <td>-0.086058</td>\n",
              "      <td>-0.077553</td>\n",
              "      <td>0.003557</td>\n",
              "      <td>0.240915</td>\n",
              "      <td>...</td>\n",
              "      <td>0.408603</td>\n",
              "      <td>0.373139</td>\n",
              "      <td>0.301073</td>\n",
              "      <td>0.210873</td>\n",
              "      <td>0.043674</td>\n",
              "      <td>0.046138</td>\n",
              "      <td>0.281950</td>\n",
              "      <td>0.316621</td>\n",
              "      <td>-0.159583</td>\n",
              "      <td>1.0</td>\n",
              "    </tr>\n",
              "    <tr>\n",
              "      <th>3</th>\n",
              "      <td>0.234614</td>\n",
              "      <td>-0.020636</td>\n",
              "      <td>-0.610911</td>\n",
              "      <td>-0.712402</td>\n",
              "      <td>-0.705506</td>\n",
              "      <td>-0.582672</td>\n",
              "      <td>-0.462045</td>\n",
              "      <td>-0.136574</td>\n",
              "      <td>-0.048677</td>\n",
              "      <td>0.051744</td>\n",
              "      <td>...</td>\n",
              "      <td>0.259395</td>\n",
              "      <td>0.364412</td>\n",
              "      <td>0.378722</td>\n",
              "      <td>0.441240</td>\n",
              "      <td>0.435546</td>\n",
              "      <td>0.412392</td>\n",
              "      <td>0.450689</td>\n",
              "      <td>0.413407</td>\n",
              "      <td>-0.153917</td>\n",
              "      <td>1.0</td>\n",
              "    </tr>\n",
              "    <tr>\n",
              "      <th>4</th>\n",
              "      <td>0.287583</td>\n",
              "      <td>0.176175</td>\n",
              "      <td>-0.294834</td>\n",
              "      <td>-0.617254</td>\n",
              "      <td>-0.724172</td>\n",
              "      <td>-0.560010</td>\n",
              "      <td>-0.324089</td>\n",
              "      <td>-0.173298</td>\n",
              "      <td>-0.139228</td>\n",
              "      <td>0.122072</td>\n",
              "      <td>...</td>\n",
              "      <td>0.481864</td>\n",
              "      <td>0.488349</td>\n",
              "      <td>0.501975</td>\n",
              "      <td>0.582452</td>\n",
              "      <td>0.512078</td>\n",
              "      <td>0.405216</td>\n",
              "      <td>0.425175</td>\n",
              "      <td>0.454425</td>\n",
              "      <td>0.113606</td>\n",
              "      <td>1.0</td>\n",
              "    </tr>\n",
              "  </tbody>\n",
              "</table>\n",
              "<p>5 rows × 141 columns</p>\n",
              "</div>\n",
              "      <button class=\"colab-df-convert\" onclick=\"convertToInteractive('df-80e65a7e-2465-4285-834a-82c9ab6578a9')\"\n",
              "              title=\"Convert this dataframe to an interactive table.\"\n",
              "              style=\"display:none;\">\n",
              "        \n",
              "  <svg xmlns=\"http://www.w3.org/2000/svg\" height=\"24px\"viewBox=\"0 0 24 24\"\n",
              "       width=\"24px\">\n",
              "    <path d=\"M0 0h24v24H0V0z\" fill=\"none\"/>\n",
              "    <path d=\"M18.56 5.44l.94 2.06.94-2.06 2.06-.94-2.06-.94-.94-2.06-.94 2.06-2.06.94zm-11 1L8.5 8.5l.94-2.06 2.06-.94-2.06-.94L8.5 2.5l-.94 2.06-2.06.94zm10 10l.94 2.06.94-2.06 2.06-.94-2.06-.94-.94-2.06-.94 2.06-2.06.94z\"/><path d=\"M17.41 7.96l-1.37-1.37c-.4-.4-.92-.59-1.43-.59-.52 0-1.04.2-1.43.59L10.3 9.45l-7.72 7.72c-.78.78-.78 2.05 0 2.83L4 21.41c.39.39.9.59 1.41.59.51 0 1.02-.2 1.41-.59l7.78-7.78 2.81-2.81c.8-.78.8-2.07 0-2.86zM5.41 20L4 18.59l7.72-7.72 1.47 1.35L5.41 20z\"/>\n",
              "  </svg>\n",
              "      </button>\n",
              "      \n",
              "  <style>\n",
              "    .colab-df-container {\n",
              "      display:flex;\n",
              "      flex-wrap:wrap;\n",
              "      gap: 12px;\n",
              "    }\n",
              "\n",
              "    .colab-df-convert {\n",
              "      background-color: #E8F0FE;\n",
              "      border: none;\n",
              "      border-radius: 50%;\n",
              "      cursor: pointer;\n",
              "      display: none;\n",
              "      fill: #1967D2;\n",
              "      height: 32px;\n",
              "      padding: 0 0 0 0;\n",
              "      width: 32px;\n",
              "    }\n",
              "\n",
              "    .colab-df-convert:hover {\n",
              "      background-color: #E2EBFA;\n",
              "      box-shadow: 0px 1px 2px rgba(60, 64, 67, 0.3), 0px 1px 3px 1px rgba(60, 64, 67, 0.15);\n",
              "      fill: #174EA6;\n",
              "    }\n",
              "\n",
              "    [theme=dark] .colab-df-convert {\n",
              "      background-color: #3B4455;\n",
              "      fill: #D2E3FC;\n",
              "    }\n",
              "\n",
              "    [theme=dark] .colab-df-convert:hover {\n",
              "      background-color: #434B5C;\n",
              "      box-shadow: 0px 1px 3px 1px rgba(0, 0, 0, 0.15);\n",
              "      filter: drop-shadow(0px 1px 2px rgba(0, 0, 0, 0.3));\n",
              "      fill: #FFFFFF;\n",
              "    }\n",
              "  </style>\n",
              "\n",
              "      <script>\n",
              "        const buttonEl =\n",
              "          document.querySelector('#df-80e65a7e-2465-4285-834a-82c9ab6578a9 button.colab-df-convert');\n",
              "        buttonEl.style.display =\n",
              "          google.colab.kernel.accessAllowed ? 'block' : 'none';\n",
              "\n",
              "        async function convertToInteractive(key) {\n",
              "          const element = document.querySelector('#df-80e65a7e-2465-4285-834a-82c9ab6578a9');\n",
              "          const dataTable =\n",
              "            await google.colab.kernel.invokeFunction('convertToInteractive',\n",
              "                                                     [key], {});\n",
              "          if (!dataTable) return;\n",
              "\n",
              "          const docLinkHtml = 'Like what you see? Visit the ' +\n",
              "            '<a target=\"_blank\" href=https://colab.research.google.com/notebooks/data_table.ipynb>data table notebook</a>'\n",
              "            + ' to learn more about interactive tables.';\n",
              "          element.innerHTML = '';\n",
              "          dataTable['output_type'] = 'display_data';\n",
              "          await google.colab.output.renderOutput(dataTable, element);\n",
              "          const docLink = document.createElement('div');\n",
              "          docLink.innerHTML = docLinkHtml;\n",
              "          element.appendChild(docLink);\n",
              "        }\n",
              "      </script>\n",
              "    </div>\n",
              "  </div>\n",
              "  "
            ]
          },
          "metadata": {},
          "execution_count": 36
        }
      ]
    },
    {
      "cell_type": "code",
      "source": [
        "by_label  = df.groupby(140).count()\n",
        "by_label.unstack(0)[0]"
      ],
      "metadata": {
        "colab": {
          "base_uri": "https://localhost:8080/"
        },
        "id": "zefM1Zusiyl3",
        "outputId": "328a07f4-c83e-4947-ae09-a5851a19f23c"
      },
      "execution_count": null,
      "outputs": [
        {
          "output_type": "execute_result",
          "data": {
            "text/plain": [
              "140\n",
              "0.0    2079\n",
              "1.0    2919\n",
              "dtype: int64"
            ]
          },
          "metadata": {},
          "execution_count": 37
        }
      ]
    },
    {
      "cell_type": "code",
      "source": [],
      "metadata": {
        "id": "vsxoWu2Ekb1R"
      },
      "execution_count": null,
      "outputs": []
    },
    {
      "cell_type": "code",
      "source": [
        "from sklearn.model_selection import train_test_split\n",
        "\n",
        "# Shuffle and split your data into training and testing sets\n",
        "X_train, X_test, y_train, y_test = train_test_split(X_scaled, y, test_size=0.2, random_state=42)\n",
        "\n",
        "# Print the shapes of the resulting arrays\n",
        "print(\"X_train shape:\", X_train.shape)\n",
        "print(\"y_train shape:\", y_train.shape)\n",
        "print(\"X_test shape:\", X_test.shape)\n",
        "print(\"y_test shape:\", y_test.shape)\n"
      ],
      "metadata": {
        "colab": {
          "base_uri": "https://localhost:8080/"
        },
        "id": "8A4ncv-lkSHU",
        "outputId": "f409f40f-5da3-4b56-fc12-6c14d517938a"
      },
      "execution_count": null,
      "outputs": [
        {
          "output_type": "stream",
          "name": "stdout",
          "text": [
            "X_train shape: (3998, 140)\n",
            "y_train shape: (3998,)\n",
            "X_test shape: (1000, 140)\n",
            "y_test shape: (1000,)\n"
          ]
        }
      ]
    },
    {
      "cell_type": "code",
      "source": [
        "# Define your model architecture\n",
        "import tensorflow as tf\n",
        "from tensorflow import keras\n",
        "model = keras.Sequential([\n",
        "    keras.layers.Dense(64, activation=\"relu\", input_shape=(140,)),\n",
        "    keras.layers.Dense(32, activation=\"relu\"),\n",
        "    keras.layers.Dense(1, activation=\"sigmoid\")\n",
        "]) "
      ],
      "metadata": {
        "id": "n74KakBIkcxP"
      },
      "execution_count": null,
      "outputs": []
    },
    {
      "cell_type": "code",
      "source": [
        "# Compile your model\n",
        "model.compile(optimizer=\"adam\", loss=\"binary_crossentropy\", metrics=[\"accuracy\"])\n",
        "\n",
        "# Train your model\n",
        "history = model.fit(X_train, y_train, epochs=10, batch_size=64)\n"
      ],
      "metadata": {
        "colab": {
          "base_uri": "https://localhost:8080/"
        },
        "id": "XtJCHAKFkc6v",
        "outputId": "9c925af2-bfb8-493d-93fe-3478ed7bc585"
      },
      "execution_count": null,
      "outputs": [
        {
          "output_type": "stream",
          "name": "stdout",
          "text": [
            "Epoch 1/10\n",
            "63/63 [==============================] - 1s 3ms/step - loss: 0.1978 - accuracy: 0.9492\n",
            "Epoch 2/10\n",
            "63/63 [==============================] - 0s 3ms/step - loss: 0.0493 - accuracy: 0.9855\n",
            "Epoch 3/10\n",
            "63/63 [==============================] - 0s 3ms/step - loss: 0.0394 - accuracy: 0.9892\n",
            "Epoch 4/10\n",
            "63/63 [==============================] - 0s 3ms/step - loss: 0.0345 - accuracy: 0.9910\n",
            "Epoch 5/10\n",
            "63/63 [==============================] - 0s 3ms/step - loss: 0.0316 - accuracy: 0.9905\n",
            "Epoch 6/10\n",
            "63/63 [==============================] - 0s 3ms/step - loss: 0.0290 - accuracy: 0.9915\n",
            "Epoch 7/10\n",
            "63/63 [==============================] - 0s 3ms/step - loss: 0.0259 - accuracy: 0.9932\n",
            "Epoch 8/10\n",
            "63/63 [==============================] - 0s 3ms/step - loss: 0.0251 - accuracy: 0.9940\n",
            "Epoch 9/10\n",
            "63/63 [==============================] - 0s 3ms/step - loss: 0.0233 - accuracy: 0.9935\n",
            "Epoch 10/10\n",
            "63/63 [==============================] - 0s 4ms/step - loss: 0.0242 - accuracy: 0.9937\n"
          ]
        }
      ]
    },
    {
      "cell_type": "code",
      "source": [
        "from sklearn.metrics import classification_report\n",
        "# Evaluate your model on the testing set\n",
        "y_pred = model.predict(X_test)\n",
        "y_pred = np.round(y_pred)\n",
        "print(classification_report(y_test, y_pred))"
      ],
      "metadata": {
        "colab": {
          "base_uri": "https://localhost:8080/"
        },
        "id": "aP94ShS0mtNz",
        "outputId": "e1512fc9-a1f8-44a4-85e7-ed63cb2c1595"
      },
      "execution_count": null,
      "outputs": [
        {
          "output_type": "stream",
          "name": "stdout",
          "text": [
            "32/32 [==============================] - 0s 1ms/step\n",
            "              precision    recall  f1-score   support\n",
            "\n",
            "         0.0       1.00      0.99      0.99       409\n",
            "         1.0       0.99      1.00      0.99       591\n",
            "\n",
            "    accuracy                           0.99      1000\n",
            "   macro avg       0.99      0.99      0.99      1000\n",
            "weighted avg       0.99      0.99      0.99      1000\n",
            "\n"
          ]
        }
      ]
    },
    {
      "cell_type": "code",
      "source": [
        "model.save(\"deepLearningModel.h5\")\n"
      ],
      "metadata": {
        "id": "5QfhMqLUmtQu"
      },
      "execution_count": null,
      "outputs": []
    },
    {
      "cell_type": "code",
      "source": [
        "model = tf.keras.models.load_model('deepLearningModel.h5')\n"
      ],
      "metadata": {
        "id": "6UT7tyzEmtTj"
      },
      "execution_count": null,
      "outputs": []
    },
    {
      "cell_type": "code",
      "source": [
        "normal_generated_df['label']=1.0\n",
        "abnormal_generated_df['label']=0.0"
      ],
      "metadata": {
        "id": "V7KE8ZlqtAgn"
      },
      "execution_count": null,
      "outputs": []
    },
    {
      "cell_type": "code",
      "source": [],
      "metadata": {
        "colab": {
          "base_uri": "https://localhost:8080/",
          "height": 299
        },
        "id": "-mnHhD6ZtAis",
        "outputId": "ff0751f1-b96e-421e-ce74-c7a87424cb25"
      },
      "execution_count": null,
      "outputs": [
        {
          "output_type": "execute_result",
          "data": {
            "text/plain": [
              "          0         1         2         3         4         5         6  \\\n",
              "0 -0.985168 -0.629428 -0.020369 -0.108741 -0.298966 -0.980838 -0.992402   \n",
              "1 -0.984587 -0.606973 -0.000666 -0.104097 -0.307090 -0.980904 -0.992481   \n",
              "2 -0.985610 -0.631490 -0.028492 -0.108007 -0.298303 -0.981368 -0.992609   \n",
              "3 -0.986346 -0.650772 -0.043938 -0.110922 -0.294511 -0.981407 -0.992601   \n",
              "4 -0.986095 -0.643604 -0.028438 -0.114004 -0.297201 -0.981609 -0.992799   \n",
              "\n",
              "          7         8         9  ...       131       132       133       134  \\\n",
              "0 -0.985967 -0.411637  0.675412  ...  0.028207  0.028201  0.026914  0.020718   \n",
              "1 -0.985960 -0.389896  0.694436  ...  0.028207  0.028201  0.026914  0.020718   \n",
              "2 -0.986248 -0.417208  0.674377  ...  0.028207  0.028201  0.026914  0.020718   \n",
              "3 -0.986421 -0.438647  0.657951  ...  0.028207  0.028201  0.026914  0.020718   \n",
              "4 -0.986679 -0.425427  0.670722  ...  0.028207  0.028201  0.026914  0.020718   \n",
              "\n",
              "        135       136       137       138       139  label  \n",
              "0  0.020634  0.014389  0.019495  0.019711  0.012926    0.0  \n",
              "1  0.020634  0.014389  0.019495  0.019711  0.012926    0.0  \n",
              "2  0.020634  0.014389  0.019495  0.019711  0.012926    0.0  \n",
              "3  0.020634  0.014389  0.019495  0.019711  0.012926    0.0  \n",
              "4  0.020634  0.014389  0.019495  0.019711  0.012926    0.0  \n",
              "\n",
              "[5 rows x 141 columns]"
            ],
            "text/html": [
              "\n",
              "  <div id=\"df-0fabc77c-61d3-455c-addb-f1062747920b\">\n",
              "    <div class=\"colab-df-container\">\n",
              "      <div>\n",
              "<style scoped>\n",
              "    .dataframe tbody tr th:only-of-type {\n",
              "        vertical-align: middle;\n",
              "    }\n",
              "\n",
              "    .dataframe tbody tr th {\n",
              "        vertical-align: top;\n",
              "    }\n",
              "\n",
              "    .dataframe thead th {\n",
              "        text-align: right;\n",
              "    }\n",
              "</style>\n",
              "<table border=\"1\" class=\"dataframe\">\n",
              "  <thead>\n",
              "    <tr style=\"text-align: right;\">\n",
              "      <th></th>\n",
              "      <th>0</th>\n",
              "      <th>1</th>\n",
              "      <th>2</th>\n",
              "      <th>3</th>\n",
              "      <th>4</th>\n",
              "      <th>5</th>\n",
              "      <th>6</th>\n",
              "      <th>7</th>\n",
              "      <th>8</th>\n",
              "      <th>9</th>\n",
              "      <th>...</th>\n",
              "      <th>131</th>\n",
              "      <th>132</th>\n",
              "      <th>133</th>\n",
              "      <th>134</th>\n",
              "      <th>135</th>\n",
              "      <th>136</th>\n",
              "      <th>137</th>\n",
              "      <th>138</th>\n",
              "      <th>139</th>\n",
              "      <th>label</th>\n",
              "    </tr>\n",
              "  </thead>\n",
              "  <tbody>\n",
              "    <tr>\n",
              "      <th>0</th>\n",
              "      <td>-0.985168</td>\n",
              "      <td>-0.629428</td>\n",
              "      <td>-0.020369</td>\n",
              "      <td>-0.108741</td>\n",
              "      <td>-0.298966</td>\n",
              "      <td>-0.980838</td>\n",
              "      <td>-0.992402</td>\n",
              "      <td>-0.985967</td>\n",
              "      <td>-0.411637</td>\n",
              "      <td>0.675412</td>\n",
              "      <td>...</td>\n",
              "      <td>0.028207</td>\n",
              "      <td>0.028201</td>\n",
              "      <td>0.026914</td>\n",
              "      <td>0.020718</td>\n",
              "      <td>0.020634</td>\n",
              "      <td>0.014389</td>\n",
              "      <td>0.019495</td>\n",
              "      <td>0.019711</td>\n",
              "      <td>0.012926</td>\n",
              "      <td>0.0</td>\n",
              "    </tr>\n",
              "    <tr>\n",
              "      <th>1</th>\n",
              "      <td>-0.984587</td>\n",
              "      <td>-0.606973</td>\n",
              "      <td>-0.000666</td>\n",
              "      <td>-0.104097</td>\n",
              "      <td>-0.307090</td>\n",
              "      <td>-0.980904</td>\n",
              "      <td>-0.992481</td>\n",
              "      <td>-0.985960</td>\n",
              "      <td>-0.389896</td>\n",
              "      <td>0.694436</td>\n",
              "      <td>...</td>\n",
              "      <td>0.028207</td>\n",
              "      <td>0.028201</td>\n",
              "      <td>0.026914</td>\n",
              "      <td>0.020718</td>\n",
              "      <td>0.020634</td>\n",
              "      <td>0.014389</td>\n",
              "      <td>0.019495</td>\n",
              "      <td>0.019711</td>\n",
              "      <td>0.012926</td>\n",
              "      <td>0.0</td>\n",
              "    </tr>\n",
              "    <tr>\n",
              "      <th>2</th>\n",
              "      <td>-0.985610</td>\n",
              "      <td>-0.631490</td>\n",
              "      <td>-0.028492</td>\n",
              "      <td>-0.108007</td>\n",
              "      <td>-0.298303</td>\n",
              "      <td>-0.981368</td>\n",
              "      <td>-0.992609</td>\n",
              "      <td>-0.986248</td>\n",
              "      <td>-0.417208</td>\n",
              "      <td>0.674377</td>\n",
              "      <td>...</td>\n",
              "      <td>0.028207</td>\n",
              "      <td>0.028201</td>\n",
              "      <td>0.026914</td>\n",
              "      <td>0.020718</td>\n",
              "      <td>0.020634</td>\n",
              "      <td>0.014389</td>\n",
              "      <td>0.019495</td>\n",
              "      <td>0.019711</td>\n",
              "      <td>0.012926</td>\n",
              "      <td>0.0</td>\n",
              "    </tr>\n",
              "    <tr>\n",
              "      <th>3</th>\n",
              "      <td>-0.986346</td>\n",
              "      <td>-0.650772</td>\n",
              "      <td>-0.043938</td>\n",
              "      <td>-0.110922</td>\n",
              "      <td>-0.294511</td>\n",
              "      <td>-0.981407</td>\n",
              "      <td>-0.992601</td>\n",
              "      <td>-0.986421</td>\n",
              "      <td>-0.438647</td>\n",
              "      <td>0.657951</td>\n",
              "      <td>...</td>\n",
              "      <td>0.028207</td>\n",
              "      <td>0.028201</td>\n",
              "      <td>0.026914</td>\n",
              "      <td>0.020718</td>\n",
              "      <td>0.020634</td>\n",
              "      <td>0.014389</td>\n",
              "      <td>0.019495</td>\n",
              "      <td>0.019711</td>\n",
              "      <td>0.012926</td>\n",
              "      <td>0.0</td>\n",
              "    </tr>\n",
              "    <tr>\n",
              "      <th>4</th>\n",
              "      <td>-0.986095</td>\n",
              "      <td>-0.643604</td>\n",
              "      <td>-0.028438</td>\n",
              "      <td>-0.114004</td>\n",
              "      <td>-0.297201</td>\n",
              "      <td>-0.981609</td>\n",
              "      <td>-0.992799</td>\n",
              "      <td>-0.986679</td>\n",
              "      <td>-0.425427</td>\n",
              "      <td>0.670722</td>\n",
              "      <td>...</td>\n",
              "      <td>0.028207</td>\n",
              "      <td>0.028201</td>\n",
              "      <td>0.026914</td>\n",
              "      <td>0.020718</td>\n",
              "      <td>0.020634</td>\n",
              "      <td>0.014389</td>\n",
              "      <td>0.019495</td>\n",
              "      <td>0.019711</td>\n",
              "      <td>0.012926</td>\n",
              "      <td>0.0</td>\n",
              "    </tr>\n",
              "  </tbody>\n",
              "</table>\n",
              "<p>5 rows × 141 columns</p>\n",
              "</div>\n",
              "      <button class=\"colab-df-convert\" onclick=\"convertToInteractive('df-0fabc77c-61d3-455c-addb-f1062747920b')\"\n",
              "              title=\"Convert this dataframe to an interactive table.\"\n",
              "              style=\"display:none;\">\n",
              "        \n",
              "  <svg xmlns=\"http://www.w3.org/2000/svg\" height=\"24px\"viewBox=\"0 0 24 24\"\n",
              "       width=\"24px\">\n",
              "    <path d=\"M0 0h24v24H0V0z\" fill=\"none\"/>\n",
              "    <path d=\"M18.56 5.44l.94 2.06.94-2.06 2.06-.94-2.06-.94-.94-2.06-.94 2.06-2.06.94zm-11 1L8.5 8.5l.94-2.06 2.06-.94-2.06-.94L8.5 2.5l-.94 2.06-2.06.94zm10 10l.94 2.06.94-2.06 2.06-.94-2.06-.94-.94-2.06-.94 2.06-2.06.94z\"/><path d=\"M17.41 7.96l-1.37-1.37c-.4-.4-.92-.59-1.43-.59-.52 0-1.04.2-1.43.59L10.3 9.45l-7.72 7.72c-.78.78-.78 2.05 0 2.83L4 21.41c.39.39.9.59 1.41.59.51 0 1.02-.2 1.41-.59l7.78-7.78 2.81-2.81c.8-.78.8-2.07 0-2.86zM5.41 20L4 18.59l7.72-7.72 1.47 1.35L5.41 20z\"/>\n",
              "  </svg>\n",
              "      </button>\n",
              "      \n",
              "  <style>\n",
              "    .colab-df-container {\n",
              "      display:flex;\n",
              "      flex-wrap:wrap;\n",
              "      gap: 12px;\n",
              "    }\n",
              "\n",
              "    .colab-df-convert {\n",
              "      background-color: #E8F0FE;\n",
              "      border: none;\n",
              "      border-radius: 50%;\n",
              "      cursor: pointer;\n",
              "      display: none;\n",
              "      fill: #1967D2;\n",
              "      height: 32px;\n",
              "      padding: 0 0 0 0;\n",
              "      width: 32px;\n",
              "    }\n",
              "\n",
              "    .colab-df-convert:hover {\n",
              "      background-color: #E2EBFA;\n",
              "      box-shadow: 0px 1px 2px rgba(60, 64, 67, 0.3), 0px 1px 3px 1px rgba(60, 64, 67, 0.15);\n",
              "      fill: #174EA6;\n",
              "    }\n",
              "\n",
              "    [theme=dark] .colab-df-convert {\n",
              "      background-color: #3B4455;\n",
              "      fill: #D2E3FC;\n",
              "    }\n",
              "\n",
              "    [theme=dark] .colab-df-convert:hover {\n",
              "      background-color: #434B5C;\n",
              "      box-shadow: 0px 1px 3px 1px rgba(0, 0, 0, 0.15);\n",
              "      filter: drop-shadow(0px 1px 2px rgba(0, 0, 0, 0.3));\n",
              "      fill: #FFFFFF;\n",
              "    }\n",
              "  </style>\n",
              "\n",
              "      <script>\n",
              "        const buttonEl =\n",
              "          document.querySelector('#df-0fabc77c-61d3-455c-addb-f1062747920b button.colab-df-convert');\n",
              "        buttonEl.style.display =\n",
              "          google.colab.kernel.accessAllowed ? 'block' : 'none';\n",
              "\n",
              "        async function convertToInteractive(key) {\n",
              "          const element = document.querySelector('#df-0fabc77c-61d3-455c-addb-f1062747920b');\n",
              "          const dataTable =\n",
              "            await google.colab.kernel.invokeFunction('convertToInteractive',\n",
              "                                                     [key], {});\n",
              "          if (!dataTable) return;\n",
              "\n",
              "          const docLinkHtml = 'Like what you see? Visit the ' +\n",
              "            '<a target=\"_blank\" href=https://colab.research.google.com/notebooks/data_table.ipynb>data table notebook</a>'\n",
              "            + ' to learn more about interactive tables.';\n",
              "          element.innerHTML = '';\n",
              "          dataTable['output_type'] = 'display_data';\n",
              "          await google.colab.output.renderOutput(dataTable, element);\n",
              "          const docLink = document.createElement('div');\n",
              "          docLink.innerHTML = docLinkHtml;\n",
              "          element.appendChild(docLink);\n",
              "        }\n",
              "      </script>\n",
              "    </div>\n",
              "  </div>\n",
              "  "
            ]
          },
          "metadata": {},
          "execution_count": 64
        }
      ]
    },
    {
      "cell_type": "code",
      "source": [
        "generated_dataset = pd.concat([normal_generated_df, abnormal_generated_df], ignore_index=True).sample(frac=1).reset_index(drop=True)\n"
      ],
      "metadata": {
        "id": "4m0D9p8qtAlo"
      },
      "execution_count": null,
      "outputs": []
    },
    {
      "cell_type": "code",
      "source": [
        "generated_dataset.shape"
      ],
      "metadata": {
        "colab": {
          "base_uri": "https://localhost:8080/"
        },
        "id": "_sYayj-YwHcf",
        "outputId": "ca57ac85-64f9-45eb-eff6-6a30b98445f2"
      },
      "execution_count": null,
      "outputs": [
        {
          "output_type": "execute_result",
          "data": {
            "text/plain": [
              "(3323, 141)"
            ]
          },
          "metadata": {},
          "execution_count": 67
        }
      ]
    },
    {
      "cell_type": "code",
      "source": [
        "X_test = generated_dataset.iloc[:,:-1]\n",
        "y_test = generated_dataset.iloc[:,-1]\n",
        "loss, accuracy = model.evaluate(X_test, y_test)\n",
        "print(f'Test loss: {loss:.4f}, Test accuracy: {accuracy:.4f}')"
      ],
      "metadata": {
        "colab": {
          "base_uri": "https://localhost:8080/"
        },
        "id": "HVeXspLbwHpY",
        "outputId": "a40eabfe-02fc-4ca8-f901-94318f8f0de6"
      },
      "execution_count": null,
      "outputs": [
        {
          "output_type": "stream",
          "name": "stdout",
          "text": [
            "125/125 [==============================] - 0s 2ms/step - loss: 0.4660 - accuracy: 0.5810\n",
            "Test loss: 0.4660, Test accuracy: 0.5810\n"
          ]
        }
      ]
    }
  ]
}